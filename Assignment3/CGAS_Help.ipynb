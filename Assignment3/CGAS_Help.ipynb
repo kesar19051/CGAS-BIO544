{
  "nbformat": 4,
  "nbformat_minor": 0,
  "metadata": {
    "colab": {
      "name": "CGAS_Help.ipynb",
      "provenance": [],
      "collapsed_sections": []
    },
    "kernelspec": {
      "name": "python3",
      "display_name": "Python 3"
    },
    "language_info": {
      "name": "python"
    }
  },
  "cells": [
    {
      "cell_type": "code",
      "metadata": {
        "id": "OWXn3ngYRGew"
      },
      "source": [
        "# Importing required libraries\n",
        "import numpy as np\n",
        "import matplotlib.pyplot as plt\n",
        "import json\n",
        "import pandas as pd\n",
        "import random\n",
        "import copy\n",
        "import operator"
      ],
      "execution_count": 87,
      "outputs": []
    },
    {
      "cell_type": "code",
      "metadata": {
        "id": "xcaSddIQRWtm"
      },
      "source": [
        "# reading the file\n",
        "df = pd.read_json(\"train.json\")\n",
        "# df = df.iloc[0:50]\n",
        "df_ingredients = df['ingredients'].tolist()"
      ],
      "execution_count": 88,
      "outputs": []
    },
    {
      "cell_type": "code",
      "metadata": {
        "id": "w51TEUKc3iuC"
      },
      "source": [
        "s = []\n",
        "for index,row in df.iterrows():\n",
        "  s.append(len(row['ingredients']))\n",
        "\n",
        "df['length'] = s\n",
        "# df.sort_values()\n",
        "df = df.sort_values('length',ascending=False)"
      ],
      "execution_count": 89,
      "outputs": []
    },
    {
      "cell_type": "code",
      "metadata": {
        "colab": {
          "base_uri": "https://localhost:8080/",
          "height": 423
        },
        "id": "lBhPLLCX9cRa",
        "outputId": "614135b9-439f-493f-f59f-fcc4db3a9c50"
      },
      "source": [
        "df"
      ],
      "execution_count": 90,
      "outputs": [
        {
          "output_type": "execute_result",
          "data": {
            "text/html": [
              "<div>\n",
              "<style scoped>\n",
              "    .dataframe tbody tr th:only-of-type {\n",
              "        vertical-align: middle;\n",
              "    }\n",
              "\n",
              "    .dataframe tbody tr th {\n",
              "        vertical-align: top;\n",
              "    }\n",
              "\n",
              "    .dataframe thead th {\n",
              "        text-align: right;\n",
              "    }\n",
              "</style>\n",
              "<table border=\"1\" class=\"dataframe\">\n",
              "  <thead>\n",
              "    <tr style=\"text-align: right;\">\n",
              "      <th></th>\n",
              "      <th>id</th>\n",
              "      <th>cuisine</th>\n",
              "      <th>ingredients</th>\n",
              "      <th>length</th>\n",
              "    </tr>\n",
              "  </thead>\n",
              "  <tbody>\n",
              "    <tr>\n",
              "      <th>15289</th>\n",
              "      <td>3885</td>\n",
              "      <td>italian</td>\n",
              "      <td>[fettucine, fresh marjoram, minced garlic, oli...</td>\n",
              "      <td>65</td>\n",
              "    </tr>\n",
              "    <tr>\n",
              "      <th>30350</th>\n",
              "      <td>13430</td>\n",
              "      <td>brazilian</td>\n",
              "      <td>[marshmallows, fresh corn, cheddar cheese, shr...</td>\n",
              "      <td>59</td>\n",
              "    </tr>\n",
              "    <tr>\n",
              "      <th>26103</th>\n",
              "      <td>13049</td>\n",
              "      <td>mexican</td>\n",
              "      <td>[vanilla ice cream, lime, garlic powder, zucch...</td>\n",
              "      <td>52</td>\n",
              "    </tr>\n",
              "    <tr>\n",
              "      <th>10513</th>\n",
              "      <td>49282</td>\n",
              "      <td>mexican</td>\n",
              "      <td>[condensed cream of chicken soup, pepper, refr...</td>\n",
              "      <td>49</td>\n",
              "    </tr>\n",
              "    <tr>\n",
              "      <th>22906</th>\n",
              "      <td>2253</td>\n",
              "      <td>indian</td>\n",
              "      <td>[white vinegar, sparkling lemonade, coconut su...</td>\n",
              "      <td>49</td>\n",
              "    </tr>\n",
              "    <tr>\n",
              "      <th>...</th>\n",
              "      <td>...</td>\n",
              "      <td>...</td>\n",
              "      <td>...</td>\n",
              "      <td>...</td>\n",
              "    </tr>\n",
              "    <tr>\n",
              "      <th>32105</th>\n",
              "      <td>12805</td>\n",
              "      <td>japanese</td>\n",
              "      <td>[water]</td>\n",
              "      <td>1</td>\n",
              "    </tr>\n",
              "    <tr>\n",
              "      <th>21008</th>\n",
              "      <td>39221</td>\n",
              "      <td>italian</td>\n",
              "      <td>[cherry tomatoes]</td>\n",
              "      <td>1</td>\n",
              "    </tr>\n",
              "    <tr>\n",
              "      <th>34531</th>\n",
              "      <td>10816</td>\n",
              "      <td>greek</td>\n",
              "      <td>[phyllo]</td>\n",
              "      <td>1</td>\n",
              "    </tr>\n",
              "    <tr>\n",
              "      <th>18136</th>\n",
              "      <td>39186</td>\n",
              "      <td>thai</td>\n",
              "      <td>[jasmine rice]</td>\n",
              "      <td>1</td>\n",
              "    </tr>\n",
              "    <tr>\n",
              "      <th>2088</th>\n",
              "      <td>7833</td>\n",
              "      <td>vietnamese</td>\n",
              "      <td>[dried rice noodles]</td>\n",
              "      <td>1</td>\n",
              "    </tr>\n",
              "  </tbody>\n",
              "</table>\n",
              "<p>39774 rows × 4 columns</p>\n",
              "</div>"
            ],
            "text/plain": [
              "          id  ... length\n",
              "15289   3885  ...     65\n",
              "30350  13430  ...     59\n",
              "26103  13049  ...     52\n",
              "10513  49282  ...     49\n",
              "22906   2253  ...     49\n",
              "...      ...  ...    ...\n",
              "32105  12805  ...      1\n",
              "21008  39221  ...      1\n",
              "34531  10816  ...      1\n",
              "18136  39186  ...      1\n",
              "2088    7833  ...      1\n",
              "\n",
              "[39774 rows x 4 columns]"
            ]
          },
          "metadata": {},
          "execution_count": 90
        }
      ]
    },
    {
      "cell_type": "code",
      "metadata": {
        "id": "TAEXQbjWRX4X"
      },
      "source": [
        "# creating the ingredients basket\n",
        "ingredient_basket = []\n",
        "for ingredient_list in df_ingredients:\n",
        "  for ingredient in ingredient_list:\n",
        "    if ingredient in ingredient_basket:\n",
        "      pass\n",
        "    else:\n",
        "      ingredient_basket.append(ingredient)\n",
        "\n",
        "# calculate frequency of each ingredient\n",
        "ingredient_frequency = {}\n",
        "for index,row in df.iterrows():\n",
        "  ingredient_list = row['ingredients']\n",
        "  for ingredient in ingredient_list:\n",
        "    if ingredient in ingredient_frequency:\n",
        "      ingredient_frequency[ingredient] = ingredient_frequency[ingredient]+1\n",
        "    else:\n",
        "      ingredient_frequency[ingredient] = 1"
      ],
      "execution_count": 91,
      "outputs": []
    },
    {
      "cell_type": "code",
      "metadata": {
        "id": "Uoeb_dReCrEt"
      },
      "source": [
        "weighted = []\n",
        "for ingredient in ingredient_basket:\n",
        "  weighted.append(ingredient_frequency[ingredient])"
      ],
      "execution_count": 92,
      "outputs": []
    },
    {
      "cell_type": "code",
      "metadata": {
        "id": "aOebu69PRex6"
      },
      "source": [
        "# function to plot the recipe size\n",
        "def plot_recipeSize(recipes):\n",
        "  size = {}\n",
        "  for index, row in recipes.iterrows():\n",
        "    ingredients = row['ingredients']\n",
        "    length = len(ingredients)\n",
        "    if length in size:\n",
        "      size[length] = size[length]+1\n",
        "    else:\n",
        "      size[length] = 1\n",
        "  \n",
        "  sorted_list = sorted(size.keys())\n",
        "  y_list = []\n",
        "  total = 0\n",
        "  for r in sorted_list:\n",
        "    y_list.append(size[r])\n",
        "    total = total+size[r]\n",
        "  for i in range(len(y_list)):\n",
        "    y_list[i] = y_list[i]/total\n",
        "  x_axis = sorted_list\n",
        "  y_axis = y_list\n",
        "  plt.plot(x_axis, y_axis)\n",
        "  plt.xlabel(\"Recipe size\")\n",
        "  plt.ylabel(\"Percentage\")\n",
        "  plt.title(\"Recipe Size Distribution for each cuisine\")\n",
        "  plt.show()\n",
        "\n",
        "# function to plot the frequency rank distribution\n",
        "def plot_frequencyRank(recipes):\n",
        "  d = {}\n",
        "  for index,row in recipes.iterrows():\n",
        "    ingredients = row['ingredients']\n",
        "    for i in ingredients:\n",
        "      if i in d:\n",
        "        d[i] = d[i]+1\n",
        "      else:\n",
        "        d[i] = 1\n",
        "  sorted_matrix = sorted(d.items(),key=operator.itemgetter(1),reverse=True)\n",
        "  sorted_dict = {}\n",
        "\n",
        "  for i in range(len(sorted_matrix)):\n",
        "    sorted_dict[i] = sorted_matrix[i][1]\n",
        "\n",
        "  x_axis = list(sorted_dict.keys())\n",
        "  y_axis = list(sorted_dict.values())\n",
        "\n",
        "  plt.loglog(x_axis,y_axis, label = \"frequency rank distribution\")\n",
        "  plt.legend()\n",
        "  plt.xlabel(\"Rank\")\n",
        "  plt.ylabel(\"Frequency\")\n",
        "  plt.show()"
      ],
      "execution_count": 93,
      "outputs": []
    },
    {
      "cell_type": "code",
      "metadata": {
        "id": "hRiUfcoJRhz8"
      },
      "source": [
        "def create_RandomCuisine_b():\n",
        "  new_df = {'id':[],'cuisine':[],'ingredients':[]}\n",
        "  for index,row in df.iterrows():\n",
        "    recipe = row['ingredients']\n",
        "    recipe_size = len(recipe)\n",
        "    new_recipe = []\n",
        "    indices = []\n",
        "\n",
        "    # for all the ingredient in the recipe choosing one random ingredient from the ingredient basket\n",
        "    for i in range(recipe_size):\n",
        "      while(0<1):\n",
        "        index = random.randint(0,len(ingredient_basket)-1)\n",
        "        ingr = ingredient_basket[index]\n",
        "        if ingredient_frequency[ingr]>0:\n",
        "          ingredient_basket.remove(ingr)\n",
        "          indices.append(index)\n",
        "          new_recipe.append(ingr)\n",
        "          ingredient_frequency[ingr] = ingredient_frequency[ingr]-1\n",
        "          break\n",
        "    \n",
        "    # appending the new recipe to the cuisine\n",
        "    new_df['id'].append(row['id'])\n",
        "    new_df['cuisine'].append(row['cuisine'])\n",
        "    new_df['ingredients'].append(new_recipe)\n",
        "\n",
        "    # restoring the ingredient basket\n",
        "    for i in range(recipe_size):\n",
        "      if ingredient_frequency[new_recipe[i]]>0:\n",
        "        ingredient_basket.append(new_recipe[i])\n",
        "      else:\n",
        "        del ingredient_frequency[new_recipe[i]]\n",
        "  # new_df = pd.DataFrame(new_df)\n",
        "  #         # print(new_df)\n",
        "  # plot_frequencyRank(new_df)\n",
        "  # plot_recipeSize(new_df)"
      ],
      "execution_count": 94,
      "outputs": []
    },
    {
      "cell_type": "code",
      "metadata": {
        "id": "bsTSGNKdLwx2"
      },
      "source": [
        "def func():\n",
        "  new_df = {'id':[],'cuisine':[],'ingredients':[]}\n",
        "  for index,row in df.iterrows():\n",
        "    size = len(row['ingredients'])\n",
        "    new_recipe = []\n",
        "    for i in range(size):\n",
        "      while 0<1:\n",
        "        ingredient, frequency = random.choice(list(ingredient_frequency.items()))\n",
        "        if ingredient in new_recipe:\n",
        "          continue\n",
        "        else:\n",
        "          new_recipe.append(ingredient)\n",
        "          ingredient_frequency[ingredient] = frequency-1\n",
        "          if ingredient_frequency[ingredient]==0:\n",
        "            del ingredient_frequency[ingredient]\n",
        "          break\n",
        "\n",
        "    new_df['id'].append(row['id'])\n",
        "    new_df['cuisine'].append(row['cuisine'])\n",
        "    new_df['ingredients'].append(new_recipe)\n",
        "  new_df = pd.Dataframe(new_df)\n",
        "  plot_frequencyRank(new_df)\n",
        "  plot_recipeSize(new_df)"
      ],
      "execution_count": 95,
      "outputs": []
    },
    {
      "cell_type": "code",
      "metadata": {
        "colab": {
          "base_uri": "https://localhost:8080/"
        },
        "id": "CersCtnpEQbc",
        "outputId": "3dac5a62-cf9d-425d-dc44-a6d6a04d514d"
      },
      "source": [
        "ingredient = random.choices(ingredient_basket, weights=weighted, k=1)[0]\n",
        "print(ingredient)\n",
        "# print(ingredient_frequency[ingredient])\n",
        "print(ingredient in ingredient_frequency)"
      ],
      "execution_count": 96,
      "outputs": [
        {
          "output_type": "stream",
          "name": "stdout",
          "text": [
            "pinto beans\n",
            "True\n"
          ]
        }
      ]
    },
    {
      "cell_type": "code",
      "metadata": {
        "colab": {
          "base_uri": "https://localhost:8080/",
          "height": 561
        },
        "id": "GCvsEGEuZcva",
        "outputId": "ac67db9c-4068-4150-effb-657aba5bcbff"
      },
      "source": [
        "new_df = {'id':[],'cuisine':[],'ingredients':[]}\n",
        "# i = 0\n",
        "for index,row in df.iterrows():\n",
        "  # if len(ingredient_frequency)==0:\n",
        "  #   break\n",
        "  size = len(row['ingredients'])\n",
        "  new_recipe = []\n",
        "  # ingr = []\n",
        "  # freq = []\n",
        "  hell = False\n",
        "\n",
        "  for i in range(size):\n",
        "    # if len(ingredient_frequency)==0:\n",
        "    #   break\n",
        "    ingredient = random.choices(ingredient_basket, weights=weighted, k=1)[0]\n",
        "    index = ingredient_basket.index(ingredient)\n",
        "    frequency = weighted[index]-1\n",
        "    if frequency==0:\n",
        "      weighted.pop(index)\n",
        "      ingredient_basket.pop(index)\n",
        "    else:\n",
        "      weighted[index] = weighted[index]-1\n",
        "    # ingredient, frequency = random.choice(list(ingredient_frequency.items()))\n",
        "    # ingr.append(ingredient)\n",
        "    # freq.append(frequency)\n",
        "    # del ingredient_frequency[ingredient]\n",
        "    new_recipe.append(ingredient)\n",
        "  \n",
        "  # while i<size:\n",
        "  #   while 0<1:\n",
        "  #     index = random.randint(0,len(ingredient_basket)-1)\n",
        "  #     if ingredient_basket[index] in new_recipe:\n",
        "  #       continue\n",
        "  #     else:\n",
        "  #       new_recipe.append(ingredient_basket[index])\n",
        "  #       i = i+1\n",
        "  #       break\n",
        "\n",
        "  # for i in range(len(ingr)):\n",
        "  #   if freq[i]>0:\n",
        "  #     ingredient_frequency[ingr[i]]=freq[i]\n",
        "    # while 0<1:\n",
        "    #   ingredient, frequency = random.choice(list(ingredient_frequency.items()))\n",
        "    #   ingr.append(ingredient)\n",
        "    #   freq.append(frequency)\n",
        "    #   del ingredient_frequency[ingredient]\n",
        "    #   if ingredient in new_recipe:\n",
        "    #     continue\n",
        "    #   else:\n",
        "    #     new_recipe.append(ingredient)\n",
        "    #     ingredient_frequency[ingredient] = frequency-1\n",
        "    #     if ingredient_frequency[ingredient]==0:\n",
        "    #       del ingredient_frequency[ingredient]\n",
        "    #     break\n",
        "    # print(len(ingredient_frequency))\n",
        "\n",
        "  new_df['id'].append(row['id'])\n",
        "  new_df['cuisine'].append(row['cuisine'])\n",
        "  new_df['ingredients'].append(new_recipe)\n",
        "new_df = pd.DataFrame(new_df)\n",
        "plot_frequencyRank(new_df)\n",
        "plot_recipeSize(new_df)"
      ],
      "execution_count": 97,
      "outputs": [
        {
          "output_type": "display_data",
          "data": {
            "image/png": "[encoded data removed]",
            "text/plain": [
              "<Figure size 432x288 with 1 Axes>"
            ]
          },
          "metadata": {
            "needs_background": "light"
          }
        },
        {
          "output_type": "display_data",
          "data": {
            "image/png": "[encoded data removed]",
            "text/plain": [
              "<Figure size 432x288 with 1 Axes>"
            ]
          },
          "metadata": {
            "needs_background": "light"
          }
        }
      ]
    },
    {
      "cell_type": "code",
      "metadata": {
        "colab": {
          "base_uri": "https://localhost:8080/",
          "height": 423
        },
        "id": "HXCKmrfYhxUV",
        "outputId": "1366e373-c729-4613-c64e-007a2334c883"
      },
      "source": [
        "new_df"
      ],
      "execution_count": 98,
      "outputs": [
        {
          "output_type": "execute_result",
          "data": {
            "text/html": [
              "<div>\n",
              "<style scoped>\n",
              "    .dataframe tbody tr th:only-of-type {\n",
              "        vertical-align: middle;\n",
              "    }\n",
              "\n",
              "    .dataframe tbody tr th {\n",
              "        vertical-align: top;\n",
              "    }\n",
              "\n",
              "    .dataframe thead th {\n",
              "        text-align: right;\n",
              "    }\n",
              "</style>\n",
              "<table border=\"1\" class=\"dataframe\">\n",
              "  <thead>\n",
              "    <tr style=\"text-align: right;\">\n",
              "      <th></th>\n",
              "      <th>id</th>\n",
              "      <th>cuisine</th>\n",
              "      <th>ingredients</th>\n",
              "    </tr>\n",
              "  </thead>\n",
              "  <tbody>\n",
              "    <tr>\n",
              "      <th>0</th>\n",
              "      <td>3885</td>\n",
              "      <td>italian</td>\n",
              "      <td>[crushed red pepper, extra-virgin olive oil, l...</td>\n",
              "    </tr>\n",
              "    <tr>\n",
              "      <th>1</th>\n",
              "      <td>13430</td>\n",
              "      <td>brazilian</td>\n",
              "      <td>[crushed red pepper, pepper, pepper, ground cu...</td>\n",
              "    </tr>\n",
              "    <tr>\n",
              "      <th>2</th>\n",
              "      <td>13049</td>\n",
              "      <td>mexican</td>\n",
              "      <td>[pimentos, rice vinegar, lemon juice, low salt...</td>\n",
              "    </tr>\n",
              "    <tr>\n",
              "      <th>3</th>\n",
              "      <td>49282</td>\n",
              "      <td>mexican</td>\n",
              "      <td>[ground black pepper, red bell pepper, sugar, ...</td>\n",
              "    </tr>\n",
              "    <tr>\n",
              "      <th>4</th>\n",
              "      <td>2253</td>\n",
              "      <td>indian</td>\n",
              "      <td>[butter, pepper, garlic cloves, baking soda, g...</td>\n",
              "    </tr>\n",
              "    <tr>\n",
              "      <th>...</th>\n",
              "      <td>...</td>\n",
              "      <td>...</td>\n",
              "      <td>...</td>\n",
              "    </tr>\n",
              "    <tr>\n",
              "      <th>39769</th>\n",
              "      <td>12805</td>\n",
              "      <td>japanese</td>\n",
              "      <td>[butter]</td>\n",
              "    </tr>\n",
              "    <tr>\n",
              "      <th>39770</th>\n",
              "      <td>39221</td>\n",
              "      <td>italian</td>\n",
              "      <td>[bacon]</td>\n",
              "    </tr>\n",
              "    <tr>\n",
              "      <th>39771</th>\n",
              "      <td>10816</td>\n",
              "      <td>greek</td>\n",
              "      <td>[refrigerated fettuccine]</td>\n",
              "    </tr>\n",
              "    <tr>\n",
              "      <th>39772</th>\n",
              "      <td>39186</td>\n",
              "      <td>thai</td>\n",
              "      <td>[fresh mushrooms]</td>\n",
              "    </tr>\n",
              "    <tr>\n",
              "      <th>39773</th>\n",
              "      <td>7833</td>\n",
              "      <td>vietnamese</td>\n",
              "      <td>[zucchini]</td>\n",
              "    </tr>\n",
              "  </tbody>\n",
              "</table>\n",
              "<p>39774 rows × 3 columns</p>\n",
              "</div>"
            ],
            "text/plain": [
              "          id     cuisine                                        ingredients\n",
              "0       3885     italian  [crushed red pepper, extra-virgin olive oil, l...\n",
              "1      13430   brazilian  [crushed red pepper, pepper, pepper, ground cu...\n",
              "2      13049     mexican  [pimentos, rice vinegar, lemon juice, low salt...\n",
              "3      49282     mexican  [ground black pepper, red bell pepper, sugar, ...\n",
              "4       2253      indian  [butter, pepper, garlic cloves, baking soda, g...\n",
              "...      ...         ...                                                ...\n",
              "39769  12805    japanese                                           [butter]\n",
              "39770  39221     italian                                            [bacon]\n",
              "39771  10816       greek                          [refrigerated fettuccine]\n",
              "39772  39186        thai                                  [fresh mushrooms]\n",
              "39773   7833  vietnamese                                         [zucchini]\n",
              "\n",
              "[39774 rows x 3 columns]"
            ]
          },
          "metadata": {},
          "execution_count": 98
        }
      ]
    },
    {
      "cell_type": "code",
      "metadata": {
        "colab": {
          "base_uri": "https://localhost:8080/"
        },
        "id": "cpOyaDw0UaNZ",
        "outputId": "5ce77430-9df7-4b11-db00-44374626f0a6"
      },
      "source": [
        "print(len(ingredient_basket))"
      ],
      "execution_count": 99,
      "outputs": [
        {
          "output_type": "stream",
          "name": "stdout",
          "text": [
            "0\n"
          ]
        }
      ]
    },
    {
      "cell_type": "code",
      "metadata": {
        "id": "Y2QGKZsoR-8n"
      },
      "source": [
        "# new_df = {'id':[],'cuisine':[],'ingredients':[]}\n",
        "# for index,row in df.iterrows():\n",
        "#   recipe = row['ingredients']\n",
        "#   recipe_size = len(recipe)\n",
        "#   new_recipe = []\n",
        "#   indices = []\n",
        "\n",
        "#     # for all the ingredient in the recipe choosing one random ingredient from the ingredient basket\n",
        "#   for i in range(recipe_size):\n",
        "#     hell = False\n",
        "#     while(0<1):\n",
        "#       # print(\"length = \", len(ingredient_basket))\n",
        "#       # print(ingredient_frequency)\n",
        "#       if(len(ingredient_basket)==0):\n",
        "#         hell = True\n",
        "#         break\n",
        "#       index = random.randint(0,len(ingredient_basket)-1)\n",
        "#       ingr = ingredient_basket[index]\n",
        "#       if ingredient_frequency[ingr]>0:\n",
        "#         ingredient_basket.remove(ingr)\n",
        "#         indices.append(index)\n",
        "#         new_recipe.append(ingr)\n",
        "#         ingredient_frequency[ingr] = ingredient_frequency[ingr]-1\n",
        "#         break\n",
        "#     if hell:\n",
        "#       break\n",
        "    \n",
        "#     # appending the new recipe to the cuisine\n",
        "#   new_df['id'].append(row['id'])\n",
        "#   new_df['cuisine'].append(row['cuisine'])\n",
        "#   new_df['ingredients'].append(new_recipe)\n",
        "#   dframe = pd.DataFrame(new_df)\n",
        "#   print(dframe)\n",
        "\n",
        "#     # restoring the ingredient basket\n",
        "#   for i in range(recipe_size):\n",
        "#     if ingredient_frequency[new_recipe[i]]>0:\n",
        "#       ingredient_basket.append(new_recipe[i])\n",
        "#     else:\n",
        "#       del ingredient_frequency[new_recipe[i]]\n",
        "\n",
        "# new_df = pd.DataFrame(new_df)\n",
        "# plot_frequencyRank(new_df)\n",
        "# plot_recipeSize(new_df)"
      ],
      "execution_count": 100,
      "outputs": []
    },
    {
      "cell_type": "code",
      "metadata": {
        "colab": {
          "base_uri": "https://localhost:8080/",
          "height": 561
        },
        "id": "WD_M54SLj7N4",
        "outputId": "7dd2bd65-454e-4c55-cf77-d8280950294b"
      },
      "source": [
        "plot_recipeSize(df)\n",
        "plot_frequencyRank(df)"
      ],
      "execution_count": 101,
      "outputs": [
        {
          "output_type": "display_data",
          "data": {
            "image/png": "[encoded data removed]",
            "text/plain": [
              "<Figure size 432x288 with 1 Axes>"
            ]
          },
          "metadata": {
            "needs_background": "light"
          }
        },
        {
          "output_type": "display_data",
          "data": {
            "image/png": "[encoded data removed]",
            "text/plain": [
              "<Figure size 432x288 with 1 Axes>"
            ]
          },
          "metadata": {
            "needs_background": "light"
          }
        }
      ]
    },
    {
      "cell_type": "code",
      "metadata": {
        "colab": {
          "base_uri": "https://localhost:8080/",
          "height": 195
        },
        "id": "rW1nL9cd3YNV",
        "outputId": "676e1eba-8af2-4279-8501-ed63f437b7c8"
      },
      "source": [
        "import pandas as pd\n",
        "\n",
        "df = pd.DataFrame({'c1': [10, 11, 12], 'c2': [100, 110, 120]})\n",
        "\n",
        "for index, row in df.iterrows():\n",
        "    print(row['c1'], row['c2'])\n",
        "\n",
        "df['c3'] = [22,2,3]\n",
        "df = df.sort_values('c3')\n",
        "df"
      ],
      "execution_count": 102,
      "outputs": [
        {
          "output_type": "stream",
          "name": "stdout",
          "text": [
            "10 100\n",
            "11 110\n",
            "12 120\n"
          ]
        },
        {
          "output_type": "execute_result",
          "data": {
            "text/html": [
              "<div>\n",
              "<style scoped>\n",
              "    .dataframe tbody tr th:only-of-type {\n",
              "        vertical-align: middle;\n",
              "    }\n",
              "\n",
              "    .dataframe tbody tr th {\n",
              "        vertical-align: top;\n",
              "    }\n",
              "\n",
              "    .dataframe thead th {\n",
              "        text-align: right;\n",
              "    }\n",
              "</style>\n",
              "<table border=\"1\" class=\"dataframe\">\n",
              "  <thead>\n",
              "    <tr style=\"text-align: right;\">\n",
              "      <th></th>\n",
              "      <th>c1</th>\n",
              "      <th>c2</th>\n",
              "      <th>c3</th>\n",
              "    </tr>\n",
              "  </thead>\n",
              "  <tbody>\n",
              "    <tr>\n",
              "      <th>1</th>\n",
              "      <td>11</td>\n",
              "      <td>110</td>\n",
              "      <td>2</td>\n",
              "    </tr>\n",
              "    <tr>\n",
              "      <th>2</th>\n",
              "      <td>12</td>\n",
              "      <td>120</td>\n",
              "      <td>3</td>\n",
              "    </tr>\n",
              "    <tr>\n",
              "      <th>0</th>\n",
              "      <td>10</td>\n",
              "      <td>100</td>\n",
              "      <td>22</td>\n",
              "    </tr>\n",
              "  </tbody>\n",
              "</table>\n",
              "</div>"
            ],
            "text/plain": [
              "   c1   c2  c3\n",
              "1  11  110   2\n",
              "2  12  120   3\n",
              "0  10  100  22"
            ]
          },
          "metadata": {},
          "execution_count": 102
        }
      ]
    }
  ]
}
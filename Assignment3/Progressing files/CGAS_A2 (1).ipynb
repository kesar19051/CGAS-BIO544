{
  "nbformat": 4,
  "nbformat_minor": 0,
  "metadata": {
    "colab": {
      "name": "CGAS_A2",
      "provenance": [],
      "collapsed_sections": [],
      "toc_visible": true
    },
    "kernelspec": {
      "display_name": "Python 3",
      "name": "python3"
    },
    "language_info": {
      "name": "python"
    }
  },
  "cells": [
    {
      "cell_type": "markdown",
      "metadata": {
        "id": "K3zc-ulZuirP"
      },
      "source": [
        "# Assignment 3\n",
        "Name: Kesar Shrivastava\n",
        "\n",
        "Roll number: 2019051"
      ]
    },
    {
      "cell_type": "markdown",
      "metadata": {
        "id": "HB-WveKn5c42"
      },
      "source": [
        "# Question 1"
      ]
    },
    {
      "cell_type": "markdown",
      "metadata": {
        "id": "CjT7rAtg5hT9"
      },
      "source": [
        "# (a)\n",
        "\n",
        "All the itemsets in the dataframe are arranged in decreasing order of their support values.\n",
        "\n",
        "Higher support values indicate high presence of the itemset in the different recipes."
      ]
    },
    {
      "cell_type": "code",
      "metadata": {
        "colab": {
          "base_uri": "https://localhost:8080/"
        },
        "id": "7yn6O8_0OTnQ",
        "outputId": "b86aceb2-2eca-4bad-8040-93b70b37ec04"
      },
      "source": [
        "pip install apyori"
      ],
      "execution_count": 130,
      "outputs": [
        {
          "output_type": "stream",
          "name": "stdout",
          "text": [
            "Requirement already satisfied: apyori in /usr/local/lib/python3.7/dist-packages (1.1.2)\n"
          ]
        }
      ]
    },
    {
      "cell_type": "code",
      "metadata": {
        "id": "1YZq2N3muhq0"
      },
      "source": [
        "# Importing required libraries\n",
        "import numpy as np\n",
        "import matplotlib.pyplot as plt\n",
        "import json\n",
        "import pandas as pd\n",
        "import random\n",
        "import copy\n",
        "import operator\n",
        "import ast\n",
        "from apyori import apriori"
      ],
      "execution_count": 131,
      "outputs": []
    },
    {
      "cell_type": "code",
      "metadata": {
        "id": "1zTxRaMy0Ehl"
      },
      "source": [
        "# reading the json file\n",
        "df = pd.read_json(\"train.json\")\n",
        "df_ingredients = df['ingredients'].tolist()"
      ],
      "execution_count": 132,
      "outputs": []
    },
    {
      "cell_type": "code",
      "metadata": {
        "colab": {
          "base_uri": "https://localhost:8080/"
        },
        "id": "k2OedNcwfEsC",
        "outputId": "2492f117-a06d-49a2-de50-83a12a76e809"
      },
      "source": [
        "# creating the ingredients basket to get the number of ingredients\n",
        "ingredient_basket = []\n",
        "for ingredient_list in df_ingredients:\n",
        "  for ingredient in ingredient_list:\n",
        "    if ingredient in ingredient_basket:\n",
        "      pass\n",
        "    else:\n",
        "      ingredient_basket.append(ingredient)\n",
        "\n",
        "print(\"Number of unique ingredients: \", len(ingredient_basket))"
      ],
      "execution_count": 133,
      "outputs": [
        {
          "output_type": "stream",
          "name": "stdout",
          "text": [
            "Number of unique ingredients:  6714\n"
          ]
        }
      ]
    },
    {
      "cell_type": "code",
      "metadata": {
        "id": "LNCQ64POAomi"
      },
      "source": [
        "# Defining required functions\n",
        "\n",
        "# This function finds support value of a record in a result in apriori\n",
        "def find_supportValue(result):\n",
        "  s = str(result)\n",
        "  i1 = s.find('support')\n",
        "  i2 = s.find(',',i1)\n",
        "  val = float(s[i1+8:i2])\n",
        "  return val\n",
        "\n",
        "# This gives the ingredients in the result of apriori\n",
        "def get_ingredient(result):\n",
        "  s = str(result)\n",
        "  i1 = s.find('frozenset')\n",
        "  i2 = s.find('support')\n",
        "  return s[i1+10:i2-3]\n",
        "\n",
        "# helper function to create the dataframe of the output of apriori\n",
        "def create_df(result):\n",
        "  _df = {'Ingredient':[],'Support Value':[]}\n",
        "  for record in result:\n",
        "    _df['Ingredient'].append(get_ingredient(record))\n",
        "    _df['Support Value'].append(find_supportValue(record))\n",
        "  _df = pd.DataFrame(_df)\n",
        "  return _df\n",
        "\n",
        "# this gives the itemset of desired size slicing out the itemsets of less sizes\n",
        "def get_itemset(result,size):\n",
        "  _result = copy.deepcopy(result)\n",
        "  for i in range(len(_result)):\n",
        "    record = str(_result[i])\n",
        "    i1 = record.find('frozenset')\n",
        "    i2 = record.find('support')\n",
        "    s = record[i1+10:i2-3]\n",
        "    d = ast.literal_eval(s)\n",
        "    if len(d)!=size:\n",
        "      result.remove(_result[i])\n",
        "  return result"
      ],
      "execution_count": 134,
      "outputs": []
    },
    {
      "cell_type": "markdown",
      "metadata": {
        "id": "6bBSatuohDM3"
      },
      "source": [
        "**1-itemsets**\n",
        "\n",
        "Trying out different support values until we get around five itemsets"
      ]
    },
    {
      "cell_type": "code",
      "metadata": {
        "colab": {
          "base_uri": "https://localhost:8080/"
        },
        "id": "L9BbKjM_1wzZ",
        "outputId": "c3970e82-f5b4-44d1-e06f-4a45fc1eab79"
      },
      "source": [
        "results = list(apriori(df_ingredients,min_support=0.001,max_length=1))\n",
        "print(\"Total number of itemsets: \",len(results))\n",
        "ans = create_df(results)\n",
        "ans = ans.sort_values('Support Value', ascending=False)\n",
        "print(ans)"
      ],
      "execution_count": 135,
      "outputs": [
        {
          "output_type": "stream",
          "name": "stdout",
          "text": [
            "Total number of itemsets:  1137\n",
            "                    Ingredient  Support Value\n",
            "912                   {'salt'}       0.453764\n",
            "723                 {'onions'}       0.200432\n",
            "719              {'olive oil'}       0.200407\n",
            "1091                 {'water'}       0.187484\n",
            "475                 {'garlic'}       0.185548\n",
            "...                        ...            ...\n",
            "97           {'black vinegar'}       0.001006\n",
            "1084            {'vermicelli'}       0.001006\n",
            "789             {'pita bread'}       0.001006\n",
            "1098  {'white cheddar cheese'}       0.001006\n",
            "370            {'ear of corn'}       0.001006\n",
            "\n",
            "[1137 rows x 2 columns]\n"
          ]
        }
      ]
    },
    {
      "cell_type": "markdown",
      "metadata": {
        "id": "joPpRplV7p2V"
      },
      "source": [
        "0.001 support value gives 1137 itemsets. Here we can see that at the end the support value of the itemsets are same. This is because these items are used sparsely. Hence, for the next epoch we will reduce the support value significantly to obtain the itemsets with best support value."
      ]
    },
    {
      "cell_type": "code",
      "metadata": {
        "colab": {
          "base_uri": "https://localhost:8080/"
        },
        "id": "tDcpzcQ-5Puv",
        "outputId": "40a345f2-bee2-4e58-dc60-03fb0b560e93"
      },
      "source": [
        "results = list(apriori(df_ingredients,min_support=0.01,max_length=1))\n",
        "print(\"Total number of itemsets: \",len(results))\n",
        "ans = create_df(results)\n",
        "ans = ans.sort_values('Support Value', ascending=False)\n",
        "print(ans)"
      ],
      "execution_count": 136,
      "outputs": [
        {
          "output_type": "stream",
          "name": "stdout",
          "text": [
            "Total number of itemsets:  194\n",
            "                   Ingredient  Support Value\n",
            "159                  {'salt'}       0.453764\n",
            "137                {'onions'}       0.200432\n",
            "135             {'olive oil'}       0.200407\n",
            "184                 {'water'}       0.187484\n",
            "88                 {'garlic'}       0.185548\n",
            "..                        ...            ...\n",
            "181       {'vegetable broth'}       0.010283\n",
            "51   {'cracked black pepper'}       0.010258\n",
            "172         {'spring onions'}       0.010233\n",
            "143               {'peanuts'}       0.010208\n",
            "32              {'chickpeas'}       0.010107\n",
            "\n",
            "[194 rows x 2 columns]\n"
          ]
        }
      ]
    },
    {
      "cell_type": "markdown",
      "metadata": {
        "id": "mHcWfUgT8mxQ"
      },
      "source": [
        "With support value 0.01, the number of itemsets are significantly reduced. However, reducing it further for best results."
      ]
    },
    {
      "cell_type": "code",
      "metadata": {
        "colab": {
          "base_uri": "https://localhost:8080/"
        },
        "id": "mbnl6qZOgNhQ",
        "outputId": "21da5a37-d214-425d-fcb2-3abd8ca4a00a"
      },
      "source": [
        "results = list(apriori(df_ingredients,min_support=0.05,max_length=1))\n",
        "print(\"Total number of itemsets: \",len(results))\n",
        "ans = create_df(results)\n",
        "ans = ans.sort_values('Support Value', ascending=False)\n",
        "print(ans)"
      ],
      "execution_count": 137,
      "outputs": [
        {
          "output_type": "stream",
          "name": "stdout",
          "text": [
            "Total number of itemsets:  25\n",
            "                    Ingredient  Support Value\n",
            "18                    {'salt'}       0.453764\n",
            "16                  {'onions'}       0.200432\n",
            "15               {'olive oil'}       0.200407\n",
            "24                   {'water'}       0.187484\n",
            "7                   {'garlic'}       0.185548\n",
            "20                   {'sugar'}       0.161764\n",
            "8            {'garlic cloves'}       0.156786\n",
            "2                   {'butter'}       0.121864\n",
            "10     {'ground black pepper'}       0.120280\n",
            "0        {'all-purpose flour'}       0.116458\n",
            "17                  {'pepper'}       0.111580\n",
            "23           {'vegetable oil'}       0.110248\n",
            "5                     {'eggs'}       0.085181\n",
            "19               {'soy sauce'}       0.082868\n",
            "12             {'kosher salt'}       0.078267\n",
            "9             {'green onions'}       0.077387\n",
            "21                {'tomatoes'}       0.076884\n",
            "13              {'large eggs'}       0.074119\n",
            "3                  {'carrots'}       0.070750\n",
            "22         {'unsalted butter'}       0.069945\n",
            "11            {'ground cumin'}       0.069065\n",
            "6   {'extra-virgin olive oil'}       0.069065\n",
            "1             {'black pepper'}       0.066048\n",
            "14                    {'milk'}       0.056896\n",
            "4             {'chili powder'}       0.051189\n"
          ]
        }
      ]
    },
    {
      "cell_type": "markdown",
      "metadata": {
        "id": "uFaqVf0R9FBI"
      },
      "source": [
        "Support value 0.05 gives 25 itemsets with quite classic ingredients at the top like salt, onions, water, garlic, and sugar."
      ]
    },
    {
      "cell_type": "code",
      "metadata": {
        "colab": {
          "base_uri": "https://localhost:8080/"
        },
        "id": "odnMhmcAgs4U",
        "outputId": "c003bbdc-4413-436f-efa9-b7d87789c2a6"
      },
      "source": [
        "results = list(apriori(df_ingredients,min_support=0.1,max_length=1))\n",
        "print(\"Total number of itemsets: \",len(results))\n",
        "ans = create_df(results)\n",
        "ans = ans.sort_values('Support Value', ascending=False)\n",
        "print(ans)"
      ],
      "execution_count": 138,
      "outputs": [
        {
          "output_type": "stream",
          "name": "stdout",
          "text": [
            "Total number of itemsets:  12\n",
            "                 Ingredient  Support Value\n",
            "8                  {'salt'}       0.453764\n",
            "6                {'onions'}       0.200432\n",
            "5             {'olive oil'}       0.200407\n",
            "11                {'water'}       0.187484\n",
            "2                {'garlic'}       0.185548\n",
            "9                 {'sugar'}       0.161764\n",
            "3         {'garlic cloves'}       0.156786\n",
            "1                {'butter'}       0.121864\n",
            "4   {'ground black pepper'}       0.120280\n",
            "0     {'all-purpose flour'}       0.116458\n",
            "7                {'pepper'}       0.111580\n",
            "10        {'vegetable oil'}       0.110248\n"
          ]
        }
      ]
    },
    {
      "cell_type": "markdown",
      "metadata": {
        "id": "1RmeYyyX9aYG"
      },
      "source": [
        "Increasing the support value to 0.1 has sliced out many itemsets and left the frequent ingredients. These are the ingredients that have the highest frequency."
      ]
    },
    {
      "cell_type": "code",
      "metadata": {
        "colab": {
          "base_uri": "https://localhost:8080/"
        },
        "id": "IBBCnZmIgyR0",
        "outputId": "b02a24fd-8ca1-45c4-a45b-aa45f25ae873"
      },
      "source": [
        "results = list(apriori(df_ingredients,min_support=0.15,max_length=1))\n",
        "print(\"Total number of itemsets: \",len(results))\n",
        "ans = create_df(results)\n",
        "ans = ans.sort_values('Support Value', ascending=False)\n",
        "print(ans)"
      ],
      "execution_count": 139,
      "outputs": [
        {
          "output_type": "stream",
          "name": "stdout",
          "text": [
            "Total number of itemsets:  7\n",
            "          Ingredient  Support Value\n",
            "4           {'salt'}       0.453764\n",
            "3         {'onions'}       0.200432\n",
            "2      {'olive oil'}       0.200407\n",
            "6          {'water'}       0.187484\n",
            "0         {'garlic'}       0.185548\n",
            "5          {'sugar'}       0.161764\n",
            "1  {'garlic cloves'}       0.156786\n"
          ]
        }
      ]
    },
    {
      "cell_type": "markdown",
      "metadata": {
        "id": "k4NzD2Ur979Z"
      },
      "source": [
        "Here, we can see the with support value 0.15 we get the most frequent ingredients used in the recipes. These are the ingredients which will occur the most frequently in the association rules that we will generate in part (b)"
      ]
    },
    {
      "cell_type": "markdown",
      "metadata": {
        "id": "PTHMb5BWhJ6d"
      },
      "source": [
        "**2-itemsets**"
      ]
    },
    {
      "cell_type": "code",
      "metadata": {
        "colab": {
          "base_uri": "https://localhost:8080/"
        },
        "id": "JfeZ30E8ub7t",
        "outputId": "d19cff71-9236-473e-8f3f-c30aebe44e0b"
      },
      "source": [
        "results = list(apriori(df_ingredients,min_support=0.001,max_length=2))\n",
        "results = get_itemset(results,2)\n",
        "print(\"Total number of itemsets: \",len(results))\n",
        "ans = create_df(results)\n",
        "ans = ans.sort_values('Support Value', ascending=False)\n",
        "print(ans)"
      ],
      "execution_count": 140,
      "outputs": [
        {
          "output_type": "stream",
          "name": "stdout",
          "text": [
            "Total number of itemsets:  8977\n",
            "                                             Ingredient  Support Value\n",
            "7964                                 {'salt', 'onions'}       0.110424\n",
            "7831                              {'salt', 'olive oil'}       0.105018\n",
            "8607                                  {'salt', 'water'}       0.099563\n",
            "8185                                 {'pepper', 'salt'}       0.096646\n",
            "5661                                 {'salt', 'garlic'}       0.094258\n",
            "...                                                 ...            ...\n",
            "7718                                   {'salt', 'nori'}       0.001006\n",
            "1254  {'boneless skinless chicken breasts', 'ground ...       0.001006\n",
            "2598                   {'curry powder', 'chili powder'}       0.001006\n",
            "5331                         {'fresh parsley', 'leeks'}       0.001006\n",
            "5732               {'sesame oil', 'garlic chili sauce'}       0.001006\n",
            "\n",
            "[8977 rows x 2 columns]\n"
          ]
        }
      ]
    },
    {
      "cell_type": "markdown",
      "metadata": {
        "id": "UIK85nXbBAD4"
      },
      "source": [
        "Setting support value 0.001 gives 8977 itemsets. Their presence in the recipes are rare and hence we need to increase the support value."
      ]
    },
    {
      "cell_type": "code",
      "metadata": {
        "colab": {
          "base_uri": "https://localhost:8080/"
        },
        "id": "EC_Ez8xux8pB",
        "outputId": "e2e943e5-fee6-4bf1-dd7b-7c1bc02c172b"
      },
      "source": [
        "results = list(apriori(df_ingredients,min_support=0.005,max_length=2))\n",
        "results = get_itemset(results,2)\n",
        "print(\"Total number of itemsets: \",len(results))\n",
        "ans = create_df(results)\n",
        "ans = ans.sort_values('Support Value', ascending=False)\n",
        "print(ans)"
      ],
      "execution_count": 141,
      "outputs": [
        {
          "output_type": "stream",
          "name": "stdout",
          "text": [
            "Total number of itemsets:  1042\n",
            "                                       Ingredient  Support Value\n",
            "905                            {'salt', 'onions'}       0.110424\n",
            "885                         {'salt', 'olive oil'}       0.105018\n",
            "990                             {'salt', 'water'}       0.099563\n",
            "933                            {'pepper', 'salt'}       0.096646\n",
            "600                            {'salt', 'garlic'}       0.094258\n",
            "..                                            ...            ...\n",
            "556                    {'salt', 'fresh rosemary'}       0.005003\n",
            "478            {'fish sauce', 'fresh lime juice'}       0.005003\n",
            "317                         {'sugar', 'cinnamon'}       0.005003\n",
            "952               {'red bell pepper', 'tomatoes'}       0.005003\n",
            "687  {'ground black pepper', 'green bell pepper'}       0.005003\n",
            "\n",
            "[1042 rows x 2 columns]\n"
          ]
        }
      ]
    },
    {
      "cell_type": "markdown",
      "metadata": {
        "id": "bdyXLVW8CAqS"
      },
      "source": [
        "0.005 support value too does not give the most frequent itemsets. These 2-itemsets do not occur in many recipes given in the dataset."
      ]
    },
    {
      "cell_type": "code",
      "metadata": {
        "colab": {
          "base_uri": "https://localhost:8080/"
        },
        "id": "M1IxBX-uj3QQ",
        "outputId": "2badbbad-6d92-4dea-b37d-b5cf47c51d13"
      },
      "source": [
        "results = list(apriori(df_ingredients,min_support=0.01,max_length=2))\n",
        "results = get_itemset(results,2)\n",
        "print(\"Total number of itemsets: \",len(results))\n",
        "ans = create_df(results)\n",
        "ans = ans.sort_values('Support Value', ascending=False)\n",
        "print(ans)"
      ],
      "execution_count": 142,
      "outputs": [
        {
          "output_type": "stream",
          "name": "stdout",
          "text": [
            "Total number of itemsets:  341\n",
            "                          Ingredient  Support Value\n",
            "285               {'salt', 'onions'}       0.110424\n",
            "276            {'salt', 'olive oil'}       0.105018\n",
            "319                {'salt', 'water'}       0.099563\n",
            "294               {'pepper', 'salt'}       0.096646\n",
            "180               {'salt', 'garlic'}       0.094258\n",
            "..                               ...            ...\n",
            "326   {'vegetable oil', 'scallions'}       0.010032\n",
            "269             {'oil', 'soy sauce'}       0.010032\n",
            "178       {'purple onion', 'garlic'}       0.010032\n",
            "69   {'cayenne pepper', 'olive oil'}       0.010007\n",
            "112         {'salt', 'curry powder'}       0.010007\n",
            "\n",
            "[341 rows x 2 columns]\n"
          ]
        }
      ]
    },
    {
      "cell_type": "markdown",
      "metadata": {
        "id": "NRN4t0kPCe8M"
      },
      "source": [
        "Here, we get much less itemsets and we can see that many of the itemsets have the most frequent 1-itemsets as their subsets. This is because those were frequent hence their superset too are frequent."
      ]
    },
    {
      "cell_type": "code",
      "metadata": {
        "colab": {
          "base_uri": "https://localhost:8080/"
        },
        "id": "471mTJKGuQ2E",
        "outputId": "ac03460c-5028-47d5-a43b-06a405369ffe"
      },
      "source": [
        "results = list(apriori(df_ingredients,min_support=0.08,max_length=2))\n",
        "results = get_itemset(results,2)\n",
        "print(\"Total number of itemsets: \",len(results))\n",
        "ans = create_df(results)\n",
        "ans = ans.sort_values('Support Value', ascending=False)\n",
        "print(ans)"
      ],
      "execution_count": 143,
      "outputs": [
        {
          "output_type": "stream",
          "name": "stdout",
          "text": [
            "Total number of itemsets:  5\n",
            "              Ingredient  Support Value\n",
            "2     {'salt', 'onions'}       0.110424\n",
            "1  {'salt', 'olive oil'}       0.105018\n",
            "4      {'salt', 'water'}       0.099563\n",
            "3     {'pepper', 'salt'}       0.096646\n",
            "0     {'salt', 'garlic'}       0.094258\n"
          ]
        }
      ]
    },
    {
      "cell_type": "markdown",
      "metadata": {
        "id": "AOS8h46RCyjd"
      },
      "source": [
        "Now, we get the best support. All the sets are permutation and combination of the ingredients found in 1-itemset."
      ]
    },
    {
      "cell_type": "markdown",
      "metadata": {
        "id": "frr9jxhTu1GX"
      },
      "source": [
        "**3-itemsets**"
      ]
    },
    {
      "cell_type": "code",
      "metadata": {
        "colab": {
          "base_uri": "https://localhost:8080/"
        },
        "id": "eBVs20w5uyKh",
        "outputId": "77041e36-2d84-461d-c7a8-22cd08fc11e0"
      },
      "source": [
        "results = list(apriori(df_ingredients,min_support=0.004,max_length=3))\n",
        "results = get_itemset(results,3)\n",
        "print(\"Total number of itemsets: \",len(results))\n",
        "ans = create_df(results)\n",
        "ans = ans.sort_values('Support Value', ascending=False)\n",
        "print(ans)"
      ],
      "execution_count": 144,
      "outputs": [
        {
          "output_type": "stream",
          "name": "stdout",
          "text": [
            "Total number of itemsets:  813\n",
            "                                            Ingredient  Support Value\n",
            "493                       {'salt', 'onions', 'garlic'}       0.040353\n",
            "732                       {'pepper', 'salt', 'onions'}       0.033741\n",
            "748                        {'salt', 'onions', 'water'}       0.031176\n",
            "711                    {'salt', 'onions', 'olive oil'}       0.030246\n",
            "486                    {'olive oil', 'salt', 'garlic'}       0.029793\n",
            "..                                                 ...            ...\n",
            "71   {'unsalted butter', 'whole milk', 'all-purpose...       0.004023\n",
            "695                {'salt', 'minced garlic', 'onions'}       0.004023\n",
            "692                  {'vegetable oil', 'salt', 'milk'}       0.004023\n",
            "278           {'salt', 'jalapeno chilies', 'cilantro'}       0.004023\n",
            "734              {'pepper', 'vegetable oil', 'onions'}       0.004023\n",
            "\n",
            "[813 rows x 2 columns]\n"
          ]
        }
      ]
    },
    {
      "cell_type": "markdown",
      "metadata": {
        "id": "KxfKe5BDDKMK"
      },
      "source": [
        "0.004 support value does not give the top itemsets. We need to increase the support for the next epoch."
      ]
    },
    {
      "cell_type": "code",
      "metadata": {
        "colab": {
          "base_uri": "https://localhost:8080/"
        },
        "id": "SbATW7-XvexA",
        "outputId": "001b6961-37e9-4943-f998-6a607d0b1860"
      },
      "source": [
        "results = list(apriori(df_ingredients,min_support=0.009,max_length=3))\n",
        "results = get_itemset(results,3)\n",
        "print(\"Total number of itemsets: \",len(results))\n",
        "ans = create_df(results)\n",
        "ans = ans.sort_values('Support Value', ascending=False)\n",
        "print(ans)"
      ],
      "execution_count": 145,
      "outputs": [
        {
          "output_type": "stream",
          "name": "stdout",
          "text": [
            "Total number of itemsets:  136\n",
            "                                            Ingredient  Support Value\n",
            "72                        {'salt', 'onions', 'garlic'}       0.040353\n",
            "118                       {'pepper', 'salt', 'onions'}       0.033741\n",
            "124                        {'salt', 'onions', 'water'}       0.031176\n",
            "112                    {'salt', 'onions', 'olive oil'}       0.030246\n",
            "70                     {'olive oil', 'salt', 'garlic'}       0.029793\n",
            "..                                                 ...            ...\n",
            "115           {'red bell pepper', 'salt', 'olive oil'}       0.009127\n",
            "131                 {'sugar', 'salt', 'vegetable oil'}       0.009127\n",
            "5    {'unsalted butter', 'baking powder', 'all-purp...       0.009101\n",
            "25                   {'baking powder', 'salt', 'eggs'}       0.009076\n",
            "55                          {'salt', 'onions', 'eggs'}       0.009026\n",
            "\n",
            "[136 rows x 2 columns]\n"
          ]
        }
      ]
    },
    {
      "cell_type": "markdown",
      "metadata": {
        "id": "aiUzOAnzFqwx"
      },
      "source": [
        "Here, we can see that even after increasing the support value the number of itemsets does not decrease much due to the size of itemsets."
      ]
    },
    {
      "cell_type": "code",
      "metadata": {
        "colab": {
          "base_uri": "https://localhost:8080/"
        },
        "id": "VNaNg9tkzOLf",
        "outputId": "b9ad0a64-769c-42af-d33b-b92162ac8b76"
      },
      "source": [
        "results = list(apriori(df_ingredients,min_support=0.01,max_length=3))\n",
        "results = get_itemset(results,3)\n",
        "print(\"Total number of itemsets: \",len(results))\n",
        "ans = create_df(results)\n",
        "ans = ans.sort_values('Support Value', ascending=False)\n",
        "print(ans)"
      ],
      "execution_count": 146,
      "outputs": [
        {
          "output_type": "stream",
          "name": "stdout",
          "text": [
            "Total number of itemsets:  95\n",
            "                                          Ingredient  Support Value\n",
            "51                      {'salt', 'onions', 'garlic'}       0.040353\n",
            "84                      {'pepper', 'salt', 'onions'}       0.033741\n",
            "88                       {'salt', 'onions', 'water'}       0.031176\n",
            "79                   {'salt', 'onions', 'olive oil'}       0.030246\n",
            "49                   {'olive oil', 'salt', 'garlic'}       0.029793\n",
            "..                                               ...            ...\n",
            "94              {'sugar', 'soy sauce', 'sesame oil'}       0.010107\n",
            "28                   {'butter', 'salt', 'olive oil'}       0.010082\n",
            "68    {'ground black pepper', 'onions', 'olive oil'}       0.010057\n",
            "56                       {'sugar', 'salt', 'garlic'}       0.010057\n",
            "12  {'salt', 'vanilla extract', 'all-purpose flour'}       0.010007\n",
            "\n",
            "[95 rows x 2 columns]\n"
          ]
        }
      ]
    },
    {
      "cell_type": "markdown",
      "metadata": {
        "id": "BrUG5lUIGeNm"
      },
      "source": [
        "Here, also the frequent ingredients are the combination of the topmost 1-itemsets."
      ]
    },
    {
      "cell_type": "code",
      "metadata": {
        "colab": {
          "base_uri": "https://localhost:8080/"
        },
        "id": "cicKDXIX05kh",
        "outputId": "f149dada-cdcd-4f5d-ea79-fdd5416739ae"
      },
      "source": [
        "results = list(apriori(df_ingredients,min_support=0.02,max_length=3))\n",
        "results = get_itemset(results,3)\n",
        "print(\"Total number of itemsets: \",len(results))\n",
        "ans = create_df(results)\n",
        "ans = ans.sort_values('Support Value', ascending=False)\n",
        "print(ans)"
      ],
      "execution_count": 147,
      "outputs": [
        {
          "output_type": "stream",
          "name": "stdout",
          "text": [
            "Total number of itemsets:  16\n",
            "                                        Ingredient  Support Value\n",
            "6                     {'salt', 'onions', 'garlic'}       0.040353\n",
            "14                    {'pepper', 'salt', 'onions'}       0.033741\n",
            "15                     {'salt', 'onions', 'water'}       0.031176\n",
            "12                 {'salt', 'onions', 'olive oil'}       0.030246\n",
            "5                  {'olive oil', 'salt', 'garlic'}       0.029793\n",
            "7                     {'pepper', 'salt', 'garlic'}       0.029416\n",
            "13                 {'pepper', 'salt', 'olive oil'}       0.029265\n",
            "9           {'garlic cloves', 'salt', 'olive oil'}       0.028411\n",
            "3           {'sugar', 'salt', 'all-purpose flour'}       0.023986\n",
            "11    {'salt', 'ground black pepper', 'olive oil'}       0.023960\n",
            "8                      {'salt', 'water', 'garlic'}       0.023608\n",
            "1          {'butter', 'salt', 'all-purpose flour'}       0.023483\n",
            "0   {'baking powder', 'salt', 'all-purpose flour'}       0.021924\n",
            "10             {'salt', 'garlic cloves', 'onions'}       0.020868\n",
            "2      {'salt', 'large eggs', 'all-purpose flour'}       0.020340\n",
            "4                {'olive oil', 'onions', 'garlic'}       0.020063\n"
          ]
        }
      ]
    },
    {
      "cell_type": "markdown",
      "metadata": {
        "id": "a61VgD-zGktm"
      },
      "source": [
        "With 0.02 support value we get the most frequent combination of the ingredients used in the recipes. These combination are the classic ingredients used frequently in the many recipes."
      ]
    },
    {
      "cell_type": "code",
      "metadata": {
        "colab": {
          "base_uri": "https://localhost:8080/"
        },
        "id": "uXjHXJBl1Kht",
        "outputId": "587d88da-b30e-488a-fae0-7b6c95c5cf53"
      },
      "source": [
        "results = list(apriori(df_ingredients,min_support=0.03,max_length=3))\n",
        "results = get_itemset(results,3)\n",
        "print(\"Total number of itemsets: \",len(results))\n",
        "ans = create_df(results)\n",
        "ans = ans.sort_values('Support Value', ascending=False)\n",
        "print(ans)"
      ],
      "execution_count": 148,
      "outputs": [
        {
          "output_type": "stream",
          "name": "stdout",
          "text": [
            "Total number of itemsets:  4\n",
            "                        Ingredient  Support Value\n",
            "0     {'salt', 'onions', 'garlic'}       0.040353\n",
            "2     {'pepper', 'salt', 'onions'}       0.033741\n",
            "3      {'salt', 'onions', 'water'}       0.031176\n",
            "1  {'salt', 'onions', 'olive oil'}       0.030246\n"
          ]
        }
      ]
    },
    {
      "cell_type": "markdown",
      "metadata": {
        "id": "BIYpEvGyHW1a"
      },
      "source": [
        "For this support value we get the most frequent 3-itemsets. We will create association rules for these itemsets which will tell the confidence of the ingredients getting used in the recipe if other related ingredients are getting used."
      ]
    },
    {
      "cell_type": "markdown",
      "metadata": {
        "id": "8-oFdZR81Ri1"
      },
      "source": [
        "**4-itemsets**"
      ]
    },
    {
      "cell_type": "code",
      "metadata": {
        "colab": {
          "base_uri": "https://localhost:8080/"
        },
        "id": "D5TFck-W2c9R",
        "outputId": "b7eaf421-0f99-4bbe-dead-f323b8537250"
      },
      "source": [
        "results = list(apriori(df_ingredients,min_support=0.006,max_length=4))\n",
        "results = get_itemset(results,4)\n",
        "print(\"Total number of itemsets: \",len(results))\n",
        "ans = create_df(results)\n",
        "ans = ans.sort_values('Support Value', ascending=False)\n",
        "print(ans)"
      ],
      "execution_count": 149,
      "outputs": [
        {
          "output_type": "stream",
          "name": "stdout",
          "text": [
            "Total number of itemsets:  34\n",
            "                                           Ingredient  Support Value\n",
            "19             {'pepper', 'salt', 'onions', 'garlic'}       0.014105\n",
            "21              {'salt', 'onions', 'water', 'garlic'}       0.012621\n",
            "17          {'olive oil', 'salt', 'onions', 'garlic'}       0.012244\n",
            "18          {'pepper', 'olive oil', 'salt', 'garlic'}       0.010685\n",
            "30          {'pepper', 'salt', 'onions', 'olive oil'}       0.010359\n",
            "3   {'sugar', 'baking powder', 'salt', 'all-purpos...       0.010007\n",
            "8   {'sugar', 'salt', 'large eggs', 'all-purpose f...       0.009831\n",
            "32              {'pepper', 'salt', 'onions', 'water'}       0.009252\n",
            "11  {'sugar', 'unsalted butter', 'salt', 'all-purp...       0.008850\n",
            "9   {'unsalted butter', 'salt', 'large eggs', 'all...       0.008071\n",
            "20           {'tomatoes', 'salt', 'onions', 'garlic'}       0.007568\n",
            "1   {'baking powder', 'butter', 'salt', 'all-purpo...       0.007568\n",
            "16  {'salt', 'ground black pepper', 'onions', 'gar...       0.007467\n",
            "0   {'baking powder', 'salt', 'baking soda', 'all-...       0.007467\n",
            "2   {'baking powder', 'salt', 'large eggs', 'all-p...       0.007392\n",
            "24   {'salt', 'garlic cloves', 'onions', 'olive oil'}       0.007316\n",
            "15  {'olive oil', 'salt', 'ground black pepper', '...       0.007140\n",
            "7    {'sugar', 'butter', 'salt', 'all-purpose flour'}       0.007090\n",
            "4   {'unsalted butter', 'baking powder', 'salt', '...       0.006964\n",
            "25   {'pepper', 'garlic cloves', 'salt', 'olive oil'}       0.006839\n",
            "22              {'pepper', 'salt', 'water', 'garlic'}       0.006813\n",
            "23  {'garlic cloves', 'ground black pepper', 'salt...       0.006788\n",
            "28  {'salt', 'ground black pepper', 'onions', 'oli...       0.006638\n",
            "6     {'salt', 'butter', 'milk', 'all-purpose flour'}       0.006562\n",
            "29  {'sugar', 'unsalted butter', 'salt', 'large eg...       0.006537\n",
            "27      {'pepper', 'salt', 'garlic cloves', 'onions'}       0.006311\n",
            "13            {'carrots', 'salt', 'onions', 'garlic'}       0.006260\n",
            "31           {'salt', 'onions', 'water', 'olive oil'}       0.006260\n",
            "10  {'sugar', 'unsalted butter', 'large eggs', 'al...       0.006160\n",
            "14            {'pepper', 'carrots', 'salt', 'onions'}       0.006059\n",
            "26    {'garlic cloves', 'salt', 'water', 'olive oil'}       0.006034\n",
            "5   {'butter', 'large eggs', 'salt', 'all-purpose ...       0.006034\n",
            "12             {'pepper', 'salt', 'butter', 'onions'}       0.006009\n",
            "33            {'tomatoes', 'salt', 'onions', 'water'}       0.006009\n"
          ]
        }
      ]
    },
    {
      "cell_type": "markdown",
      "metadata": {
        "id": "PWEQR4N2Ia6h"
      },
      "source": [
        "Here, 34 itemsets are created with less support value. Reason lies in the infrequency of use of the ingredients together."
      ]
    },
    {
      "cell_type": "code",
      "metadata": {
        "colab": {
          "base_uri": "https://localhost:8080/"
        },
        "id": "sfKv5ig_1UOb",
        "outputId": "3578cb24-bf42-409c-9b23-e3b0b56ad7cd"
      },
      "source": [
        "results = list(apriori(df_ingredients,min_support=0.008,max_length=4))\n",
        "results = get_itemset(results,4)\n",
        "print(\"Total number of itemsets: \",len(results))\n",
        "ans = create_df(results)\n",
        "ans = ans.sort_values('Support Value', ascending=False)\n",
        "print(ans)"
      ],
      "execution_count": 150,
      "outputs": [
        {
          "output_type": "stream",
          "name": "stdout",
          "text": [
            "Total number of itemsets:  10\n",
            "                                          Ingredient  Support Value\n",
            "6             {'pepper', 'salt', 'onions', 'garlic'}       0.014105\n",
            "7              {'salt', 'onions', 'water', 'garlic'}       0.012621\n",
            "4          {'olive oil', 'salt', 'onions', 'garlic'}       0.012244\n",
            "5          {'pepper', 'olive oil', 'salt', 'garlic'}       0.010685\n",
            "8          {'pepper', 'salt', 'onions', 'olive oil'}       0.010359\n",
            "0  {'sugar', 'baking powder', 'salt', 'all-purpos...       0.010007\n",
            "1  {'sugar', 'salt', 'large eggs', 'all-purpose f...       0.009831\n",
            "9              {'pepper', 'salt', 'onions', 'water'}       0.009252\n",
            "3  {'sugar', 'unsalted butter', 'salt', 'all-purp...       0.008850\n",
            "2  {'unsalted butter', 'salt', 'large eggs', 'all...       0.008071\n"
          ]
        }
      ]
    },
    {
      "cell_type": "markdown",
      "metadata": {
        "id": "ufDrqeghIlJq"
      },
      "source": [
        "Increasing the support value a little bit slices out many itemsets and gives us the frequent itemsets."
      ]
    },
    {
      "cell_type": "code",
      "metadata": {
        "colab": {
          "base_uri": "https://localhost:8080/"
        },
        "id": "R2aTR5IT2yuM",
        "outputId": "2c3cf5fb-8076-4092-9fa5-73d9f39679fb"
      },
      "source": [
        "results = list(apriori(df_ingredients,min_support=0.01,max_length=4))\n",
        "results = get_itemset(results,4)\n",
        "print(\"Total number of itemsets: \",len(results))\n",
        "ans = create_df(results)\n",
        "ans = ans.sort_values('Support Value', ascending=False)\n",
        "print(ans)"
      ],
      "execution_count": 151,
      "outputs": [
        {
          "output_type": "stream",
          "name": "stdout",
          "text": [
            "Total number of itemsets:  6\n",
            "                                          Ingredient  Support Value\n",
            "3             {'pepper', 'salt', 'onions', 'garlic'}       0.014105\n",
            "4              {'salt', 'onions', 'water', 'garlic'}       0.012621\n",
            "1          {'olive oil', 'salt', 'onions', 'garlic'}       0.012244\n",
            "2          {'pepper', 'olive oil', 'salt', 'garlic'}       0.010685\n",
            "5          {'pepper', 'salt', 'onions', 'olive oil'}       0.010359\n",
            "0  {'sugar', 'baking powder', 'salt', 'all-purpos...       0.010007\n"
          ]
        }
      ]
    },
    {
      "cell_type": "markdown",
      "metadata": {
        "id": "DJ6kHk3ZITBE"
      },
      "source": [
        "0.01 acts as the best support as gives us the topmost itemsets."
      ]
    },
    {
      "cell_type": "markdown",
      "metadata": {
        "id": "CtJ7LNFi3MDp"
      },
      "source": [
        "**5-itemsets**"
      ]
    },
    {
      "cell_type": "code",
      "metadata": {
        "colab": {
          "base_uri": "https://localhost:8080/"
        },
        "id": "qenxNvOn3QFt",
        "outputId": "f732ba47-6a8a-4932-9416-7ba5a6d51db6"
      },
      "source": [
        "results = list(apriori(df_ingredients,min_support=0.003,max_length=5))\n",
        "results = get_itemset(results,5)\n",
        "print(\"Total number of itemsets: \",len(results))\n",
        "ans = create_df(results)\n",
        "ans = ans.sort_values('Support Value', ascending=False)\n",
        "print(ans)"
      ],
      "execution_count": 152,
      "outputs": [
        {
          "output_type": "stream",
          "name": "stdout",
          "text": [
            "Total number of itemsets:  11\n",
            "                                           Ingredient  Support Value\n",
            "9   {'pepper', 'garlic', 'salt', 'onions', 'olive ...       0.004827\n",
            "7   {'salt', 'unsalted butter', 'sugar', 'large eg...       0.004651\n",
            "3   {'salt', 'baking powder', 'sugar', 'large eggs...       0.004551\n",
            "10    {'pepper', 'salt', 'onions', 'water', 'garlic'}       0.004324\n",
            "5   {'salt', 'unsalted butter', 'baking powder', '...       0.003972\n",
            "1   {'salt', 'all-purpose flour', 'baking powder',...       0.003671\n",
            "0   {'salt', 'all-purpose flour', 'baking powder',...       0.003646\n",
            "2   {'salt', 'butter', 'baking powder', 'sugar', '...       0.003419\n",
            "8   {'salt', 'vanilla extract', 'sugar', 'large eg...       0.003294\n",
            "4   {'salt', 'baking powder', 'unsalted butter', '...       0.003118\n",
            "6   {'salt', 'butter', 'sugar', 'large eggs', 'all...       0.003092\n"
          ]
        }
      ]
    },
    {
      "cell_type": "markdown",
      "metadata": {
        "id": "g3rE-If6H3ne"
      },
      "source": [
        "Since we have incresed the size of the itemsets, a small support value too gives much less itemsets. This is because the probability of five ingredients getting used in more than one recipe is not so frequent."
      ]
    },
    {
      "cell_type": "code",
      "metadata": {
        "colab": {
          "base_uri": "https://localhost:8080/"
        },
        "id": "H1UQOYUj3kUd",
        "outputId": "2347877e-883d-4f9f-cb40-a975db2cbe1e"
      },
      "source": [
        "results = list(apriori(df_ingredients,min_support=0.004,max_length=5))\n",
        "results = get_itemset(results,5)\n",
        "print(\"Total number of itemsets: \",len(results))\n",
        "ans = create_df(results)\n",
        "ans = ans.sort_values('Support Value', ascending=False)\n",
        "print(ans)"
      ],
      "execution_count": 153,
      "outputs": [
        {
          "output_type": "stream",
          "name": "stdout",
          "text": [
            "Total number of itemsets:  4\n",
            "                                          Ingredient  Support Value\n",
            "2  {'pepper', 'garlic', 'salt', 'onions', 'olive ...       0.004827\n",
            "1  {'salt', 'unsalted butter', 'sugar', 'large eg...       0.004651\n",
            "0  {'salt', 'baking powder', 'sugar', 'large eggs...       0.004551\n",
            "3    {'pepper', 'salt', 'onions', 'water', 'garlic'}       0.004324\n"
          ]
        }
      ]
    },
    {
      "cell_type": "markdown",
      "metadata": {
        "id": "KZdOe1whIGjv"
      },
      "source": [
        "Support value of 0.004 gives the best support value and most frequent 5-itemsets."
      ]
    },
    {
      "cell_type": "markdown",
      "metadata": {
        "id": "M7UXiK3AI1b_"
      },
      "source": [
        "# (b)"
      ]
    },
    {
      "cell_type": "markdown",
      "metadata": {
        "id": "jZyJfRhiI5z1"
      },
      "source": [
        "**1-itemset**\n",
        "\n",
        "As seen from (a) **0.18** gives us the top 5 itemsets.\n",
        "\n",
        "The itemsets are\n",
        "\n",
        "*   salt\n",
        "*   onions\n",
        "*   olive oil\n",
        "*   water\n",
        "*   garlic\n",
        "\n",
        "\n",
        "\n",
        "\n",
        "\n"
      ]
    },
    {
      "cell_type": "code",
      "metadata": {
        "colab": {
          "base_uri": "https://localhost:8080/"
        },
        "id": "Zi4U5tQnLM9n",
        "outputId": "3f1790e4-f8eb-4e55-a91e-0df4ddc48547"
      },
      "source": [
        "results = list(apriori(df_ingredients,min_support = 0.18,max_length = 1))\n",
        "results"
      ],
      "execution_count": 154,
      "outputs": [
        {
          "output_type": "execute_result",
          "data": {
            "text/plain": [
              "[RelationRecord(items=frozenset({'garlic'}), support=0.18554834816714436, ordered_statistics=[OrderedStatistic(items_base=frozenset(), items_add=frozenset({'garlic'}), confidence=0.18554834816714436, lift=1.0)]),\n",
              " RelationRecord(items=frozenset({'olive oil'}), support=0.20040730125207423, ordered_statistics=[OrderedStatistic(items_base=frozenset(), items_add=frozenset({'olive oil'}), confidence=0.20040730125207423, lift=1.0)]),\n",
              " RelationRecord(items=frozenset({'onions'}), support=0.2004324433046714, ordered_statistics=[OrderedStatistic(items_base=frozenset(), items_add=frozenset({'onions'}), confidence=0.2004324433046714, lift=1.0)]),\n",
              " RelationRecord(items=frozenset({'salt'}), support=0.45376376527379697, ordered_statistics=[OrderedStatistic(items_base=frozenset(), items_add=frozenset({'salt'}), confidence=0.45376376527379697, lift=1.0)]),\n",
              " RelationRecord(items=frozenset({'water'}), support=0.18748428621712676, ordered_statistics=[OrderedStatistic(items_base=frozenset(), items_add=frozenset({'water'}), confidence=0.18748428621712676, lift=1.0)])]"
            ]
          },
          "metadata": {},
          "execution_count": 154
        }
      ]
    },
    {
      "cell_type": "markdown",
      "metadata": {
        "id": "yQLrFysWJl31"
      },
      "source": [
        "**2-itemset**\n",
        "\n",
        "**0.08** is the best support to give the top 5 itemsets\n",
        "\n",
        "\n",
        "\n",
        "*   salt, onions\n",
        "*   salt, olive oil\n",
        "* salt, water\n",
        "* pepper, salt\n",
        "* salt, garlic\n"
      ]
    },
    {
      "cell_type": "code",
      "metadata": {
        "colab": {
          "base_uri": "https://localhost:8080/"
        },
        "id": "C8EbDvnxLq2R",
        "outputId": "348898e4-8525-4b7a-ed36-5989f1988ebc"
      },
      "source": [
        "results = list(apriori(df_ingredients,min_support = 0.08,max_length = 2))\n",
        "results = get_itemset(results,2)\n",
        "results"
      ],
      "execution_count": 155,
      "outputs": [
        {
          "output_type": "execute_result",
          "data": {
            "text/plain": [
              "[RelationRecord(items=frozenset({'salt', 'garlic'}), support=0.09425755518680545, ordered_statistics=[OrderedStatistic(items_base=frozenset(), items_add=frozenset({'salt', 'garlic'}), confidence=0.09425755518680545, lift=1.0), OrderedStatistic(items_base=frozenset({'garlic'}), items_add=frozenset({'salt'}), confidence=0.5079945799457996, lift=1.119513321296777), OrderedStatistic(items_base=frozenset({'salt'}), items_add=frozenset({'garlic'}), confidence=0.2077238475177305, lift=1.1195133212967767)]),\n",
              " RelationRecord(items=frozenset({'salt', 'olive oil'}), support=0.10501835369839593, ordered_statistics=[OrderedStatistic(items_base=frozenset(), items_add=frozenset({'salt', 'olive oil'}), confidence=0.10501835369839593, lift=1.0), OrderedStatistic(items_base=frozenset({'olive oil'}), items_add=frozenset({'salt'}), confidence=0.5240245891356166, lift=1.1548400935438836), OrderedStatistic(items_base=frozenset({'salt'}), items_add=frozenset({'olive oil'}), confidence=0.23143838652482268, lift=1.1548400935438836)]),\n",
              " RelationRecord(items=frozenset({'salt', 'onions'}), support=0.11042389500678836, ordered_statistics=[OrderedStatistic(items_base=frozenset(), items_add=frozenset({'salt', 'onions'}), confidence=0.11042389500678836, lift=1.0), OrderedStatistic(items_base=frozenset({'onions'}), items_add=frozenset({'salt'}), confidence=0.5509282488710487, lift=1.2141301069701402), OrderedStatistic(items_base=frozenset({'salt'}), items_add=frozenset({'onions'}), confidence=0.24335106382978722, lift=1.2141301069701402)]),\n",
              " RelationRecord(items=frozenset({'pepper', 'salt'}), support=0.09664605018353699, ordered_statistics=[OrderedStatistic(items_base=frozenset(), items_add=frozenset({'pepper', 'salt'}), confidence=0.09664605018353699, lift=1.0), OrderedStatistic(items_base=frozenset({'pepper'}), items_add=frozenset({'salt'}), confidence=0.8661559260928346, lift=1.9088256762198805), OrderedStatistic(items_base=frozenset({'salt'}), items_add=frozenset({'pepper'}), confidence=0.21298758865248227, lift=1.9088256762198805)]),\n",
              " RelationRecord(items=frozenset({'salt', 'water'}), support=0.09956252828480917, ordered_statistics=[OrderedStatistic(items_base=frozenset(), items_add=frozenset({'salt', 'water'}), confidence=0.09956252828480917, lift=1.0), OrderedStatistic(items_base=frozenset({'salt'}), items_add=frozenset({'water'}), confidence=0.21941489361702127, lift=1.1703108460135985), OrderedStatistic(items_base=frozenset({'water'}), items_add=frozenset({'salt'}), confidence=0.5310446560278933, lift=1.1703108460135987)])]"
            ]
          },
          "metadata": {},
          "execution_count": 155
        }
      ]
    },
    {
      "cell_type": "markdown",
      "metadata": {
        "id": "vVdzk6yhKAr5"
      },
      "source": [
        "**3-itemset**\n",
        "\n",
        "**0.0297** best support value\n",
        "\n",
        "\n",
        "* salt, onions, garlic\n",
        "* pepper, salt, onions\n",
        "* salt, onions, water\n",
        "* salt, onions, olive oil\n",
        "* olive oil, salt, garlic"
      ]
    },
    {
      "cell_type": "code",
      "metadata": {
        "colab": {
          "base_uri": "https://localhost:8080/"
        },
        "id": "lzKHCi4NL0pU",
        "outputId": "ca833f77-ba12-4ded-be80-4778069fc7f3"
      },
      "source": [
        "results = list(apriori(df_ingredients,min_support = 0.0297,max_length = 3))\n",
        "results = get_itemset(results,3)\n",
        "results"
      ],
      "execution_count": 156,
      "outputs": [
        {
          "output_type": "execute_result",
          "data": {
            "text/plain": [
              "[RelationRecord(items=frozenset({'olive oil', 'salt', 'garlic'}), support=0.029793332327651228, ordered_statistics=[OrderedStatistic(items_base=frozenset(), items_add=frozenset({'garlic', 'salt', 'olive oil'}), confidence=0.029793332327651228, lift=1.0), OrderedStatistic(items_base=frozenset({'garlic'}), items_add=frozenset({'salt', 'olive oil'}), confidence=0.16056910569105692, lift=1.5289623197883884), OrderedStatistic(items_base=frozenset({'olive oil'}), items_add=frozenset({'salt', 'garlic'}), confidence=0.14866390666164847, lift=1.5772094488024557), OrderedStatistic(items_base=frozenset({'salt'}), items_add=frozenset({'garlic', 'olive oil'}), confidence=0.06565824468085106, lift=1.2555245307385432), OrderedStatistic(items_base=frozenset({'olive oil', 'garlic'}), items_add=frozenset({'salt'}), confidence=0.5697115384615384, lift=1.2555245307385432), OrderedStatistic(items_base=frozenset({'salt', 'garlic'}), items_add=frozenset({'olive oil'}), confidence=0.3160842891437716, lift=1.5772094488024553), OrderedStatistic(items_base=frozenset({'salt', 'olive oil'}), items_add=frozenset({'garlic'}), confidence=0.28369643284654056, lift=1.5289623197883881)]),\n",
              " RelationRecord(items=frozenset({'salt', 'onions', 'garlic'}), support=0.04035299441846432, ordered_statistics=[OrderedStatistic(items_base=frozenset(), items_add=frozenset({'salt', 'onions', 'garlic'}), confidence=0.04035299441846432, lift=1.0), OrderedStatistic(items_base=frozenset({'garlic'}), items_add=frozenset({'salt', 'onions'}), confidence=0.21747967479674796, lift=1.9694983117863964), OrderedStatistic(items_base=frozenset({'onions'}), items_add=frozenset({'salt', 'garlic'}), confidence=0.2013296537882589, lift=2.1359524272537236), OrderedStatistic(items_base=frozenset({'salt'}), items_add=frozenset({'onions', 'garlic'}), confidence=0.08892952127659574, lift=1.330230454778232), OrderedStatistic(items_base=frozenset({'onions', 'garlic'}), items_add=frozenset({'salt'}), confidence=0.6036103798420458, lift=1.3302304547782318), OrderedStatistic(items_base=frozenset({'salt', 'garlic'}), items_add=frozenset({'onions'}), confidence=0.4281141637770072, lift=2.1359524272537236), OrderedStatistic(items_base=frozenset({'salt', 'onions'}), items_add=frozenset({'garlic'}), confidence=0.36543715846994534, lift=1.9694983117863967)]),\n",
              " RelationRecord(items=frozenset({'salt', 'onions', 'olive oil'}), support=0.03024588927440036, ordered_statistics=[OrderedStatistic(items_base=frozenset(), items_add=frozenset({'salt', 'onions', 'olive oil'}), confidence=0.03024588927440036, lift=1.0), OrderedStatistic(items_base=frozenset({'olive oil'}), items_add=frozenset({'salt', 'onions'}), confidence=0.15092209258562286, lift=1.3667521198771775), OrderedStatistic(items_base=frozenset({'onions'}), items_add=frozenset({'salt', 'olive oil'}), confidence=0.15090316106372303, lift=1.4369217927097246), OrderedStatistic(items_base=frozenset({'salt'}), items_add=frozenset({'onions', 'olive oil'}), confidence=0.06665558510638298, lift=1.2012502229366906), OrderedStatistic(items_base=frozenset({'onions', 'olive oil'}), items_add=frozenset({'salt'}), confidence=0.5450838241957408, lift=1.2012502229366906), OrderedStatistic(items_base=frozenset({'salt', 'olive oil'}), items_add=frozenset({'onions'}), confidence=0.28800574575053867, lift=1.4369217927097246), OrderedStatistic(items_base=frozenset({'salt', 'onions'}), items_add=frozenset({'olive oil'}), confidence=0.2739071038251366, lift=1.3667521198771777)]),\n",
              " RelationRecord(items=frozenset({'pepper', 'salt', 'onions'}), support=0.033740634585407554, ordered_statistics=[OrderedStatistic(items_base=frozenset(), items_add=frozenset({'pepper', 'salt', 'onions'}), confidence=0.033740634585407554, lift=1.0), OrderedStatistic(items_base=frozenset({'onions'}), items_add=frozenset({'pepper', 'salt'}), confidence=0.16833918715504267, lift=1.7418113501312869), OrderedStatistic(items_base=frozenset({'pepper'}), items_add=frozenset({'salt', 'onions'}), confidence=0.30238846327174407, lift=2.7384332281808628), OrderedStatistic(items_base=frozenset({'salt'}), items_add=frozenset({'pepper', 'onions'}), confidence=0.0743572695035461, lift=1.9875578207218028), OrderedStatistic(items_base=frozenset({'pepper', 'onions'}), items_add=frozenset({'salt'}), confidence=0.9018817204301076, lift=1.987557820721803), OrderedStatistic(items_base=frozenset({'salt', 'onions'}), items_add=frozenset({'pepper'}), confidence=0.3055555555555556, lift=2.7384332281808623), OrderedStatistic(items_base=frozenset({'pepper', 'salt'}), items_add=frozenset({'onions'}), confidence=0.34911550468262226, lift=1.7418113501312869)]),\n",
              " RelationRecord(items=frozenset({'salt', 'onions', 'water'}), support=0.0311761452204958, ordered_statistics=[OrderedStatistic(items_base=frozenset(), items_add=frozenset({'salt', 'onions', 'water'}), confidence=0.0311761452204958, lift=1.0), OrderedStatistic(items_base=frozenset({'onions'}), items_add=frozenset({'salt', 'water'}), confidence=0.15554440541896639, lift=1.5622785810944366), OrderedStatistic(items_base=frozenset({'salt'}), items_add=frozenset({'onions', 'water'}), confidence=0.06870567375886524, lift=1.384346235098838), OrderedStatistic(items_base=frozenset({'water'}), items_add=frozenset({'salt', 'onions'}), confidence=0.16628671047338073, lift=1.505894267388034), OrderedStatistic(items_base=frozenset({'salt', 'onions'}), items_add=frozenset({'water'}), confidence=0.28233151183970856, lift=1.5058942673880338), OrderedStatistic(items_base=frozenset({'onions', 'water'}), items_add=frozenset({'salt'}), confidence=0.6281661600810537, lift=1.3843462350988383), OrderedStatistic(items_base=frozenset({'salt', 'water'}), items_add=frozenset({'onions'}), confidence=0.31313131313131315, lift=1.5622785810944366)])]"
            ]
          },
          "metadata": {},
          "execution_count": 156
        }
      ]
    },
    {
      "cell_type": "markdown",
      "metadata": {
        "id": "sQsbQhL6KiiJ"
      },
      "source": [
        "**4-itemset**\n",
        "\n",
        "**0.0103** best support value\n",
        "\n",
        "* pepper, salt, onions, garlic\n",
        "* salt, onions, water, garlic\n",
        "* olive oil, salt, onions, garlic\n",
        "* pepper, olive oil, salt, garlic\n",
        "* pepper, salt, onions, olive oil"
      ]
    },
    {
      "cell_type": "code",
      "metadata": {
        "colab": {
          "base_uri": "https://localhost:8080/"
        },
        "id": "y7yz6vI6MACr",
        "outputId": "1d1c8155-758a-44dc-e90c-b1bee8ce9a90"
      },
      "source": [
        "results = list(apriori(df_ingredients,min_support = 0.0103,max_length = 4))\n",
        "results = get_itemset(results,4)\n",
        "results"
      ],
      "execution_count": 157,
      "outputs": [
        {
          "output_type": "execute_result",
          "data": {
            "text/plain": [
              "[RelationRecord(items=frozenset({'olive oil', 'salt', 'onions', 'garlic'}), support=0.012244179614823754, ordered_statistics=[OrderedStatistic(items_base=frozenset(), items_add=frozenset({'olive oil', 'salt', 'onions', 'garlic'}), confidence=0.012244179614823754, lift=1.0), OrderedStatistic(items_base=frozenset({'garlic'}), items_add=frozenset({'salt', 'onions', 'olive oil'}), confidence=0.06598915989159891, lift=2.18175631382249), OrderedStatistic(items_base=frozenset({'olive oil'}), items_add=frozenset({'salt', 'onions', 'garlic'}), confidence=0.061096474720863124, lift=1.5140505828957072), OrderedStatistic(items_base=frozenset({'onions'}), items_add=frozenset({'garlic', 'salt', 'olive oil'}), confidence=0.061088810837932765, lift=2.050418871112184), OrderedStatistic(items_base=frozenset({'salt'}), items_add=frozenset({'garlic', 'onions', 'olive oil'}), confidence=0.02698359929078014, lift=1.3449193962299364), OrderedStatistic(items_base=frozenset({'olive oil', 'garlic'}), items_add=frozenset({'salt', 'onions'}), confidence=0.23413461538461536, lift=2.1203256357713323), OrderedStatistic(items_base=frozenset({'onions', 'garlic'}), items_add=frozenset({'salt', 'olive oil'}), confidence=0.1831515607371192, lift=1.7439957330041127), OrderedStatistic(items_base=frozenset({'salt', 'garlic'}), items_add=frozenset({'onions', 'olive oil'}), confidence=0.12990130701520405, lift=2.3410487472690193), OrderedStatistic(items_base=frozenset({'onions', 'olive oil'}), items_add=frozenset({'salt', 'garlic'}), confidence=0.22066153149071135, lift=2.3410487472690193), OrderedStatistic(items_base=frozenset({'salt', 'olive oil'}), items_add=frozenset({'onions', 'garlic'}), confidence=0.11659085468039262, lift=1.743995733004113), OrderedStatistic(items_base=frozenset({'salt', 'onions'}), items_add=frozenset({'garlic', 'olive oil'}), confidence=0.11088342440801456, lift=2.1203256357713323), OrderedStatistic(items_base=frozenset({'olive oil', 'onions', 'garlic'}), items_add=frozenset({'salt'}), confidence=0.6102756892230576, lift=1.3449193962299364), OrderedStatistic(items_base=frozenset({'olive oil', 'salt', 'garlic'}), items_add=frozenset({'onions'}), confidence=0.4109704641350211, lift=2.050418871112184), OrderedStatistic(items_base=frozenset({'salt', 'onions', 'garlic'}), items_add=frozenset({'olive oil'}), confidence=0.3034267912772586, lift=1.5140505828957072), OrderedStatistic(items_base=frozenset({'salt', 'onions', 'olive oil'}), items_add=frozenset({'garlic'}), confidence=0.40482128013300084, lift=2.18175631382249)]),\n",
              " RelationRecord(items=frozenset({'pepper', 'olive oil', 'salt', 'garlic'}), support=0.010685372353798964, ordered_statistics=[OrderedStatistic(items_base=frozenset(), items_add=frozenset({'pepper', 'olive oil', 'salt', 'garlic'}), confidence=0.010685372353798964, lift=1.0), OrderedStatistic(items_base=frozenset({'garlic'}), items_add=frozenset({'pepper', 'salt', 'olive oil'}), confidence=0.05758807588075881, lift=1.9677904897605678), OrderedStatistic(items_base=frozenset({'olive oil'}), items_add=frozenset({'pepper', 'salt', 'garlic'}), confidence=0.053318278760506835, lift=1.8125480507866656), OrderedStatistic(items_base=frozenset({'pepper'}), items_add=frozenset({'garlic', 'salt', 'olive oil'}), confidence=0.0957638575935106, lift=3.2142714531006673), OrderedStatistic(items_base=frozenset({'salt'}), items_add=frozenset({'pepper', 'garlic', 'olive oil'}), confidence=0.023548315602836878, lift=2.014216569434912), OrderedStatistic(items_base=frozenset({'olive oil', 'garlic'}), items_add=frozenset({'pepper', 'salt'}), confidence=0.20432692307692307, lift=2.1141776895061235), OrderedStatistic(items_base=frozenset({'pepper', 'garlic'}), items_add=frozenset({'salt', 'olive oil'}), confidence=0.3249235474006116, lift=3.093969158322223), OrderedStatistic(items_base=frozenset({'salt', 'garlic'}), items_add=frozenset({'pepper', 'olive oil'}), confidence=0.11336356361696452, lift=3.4314477772459266), OrderedStatistic(items_base=frozenset({'pepper', 'olive oil'}), items_add=frozenset({'salt', 'garlic'}), confidence=0.32343987823439885, lift=3.4314477772459266), OrderedStatistic(items_base=frozenset({'salt', 'olive oil'}), items_add=frozenset({'pepper', 'garlic'}), confidence=0.10174766578884367, lift=3.0939691583222233), OrderedStatistic(items_base=frozenset({'pepper', 'salt'}), items_add=frozenset({'garlic', 'olive oil'}), confidence=0.11056191467221643, lift=2.114177689506123), OrderedStatistic(items_base=frozenset({'pepper', 'olive oil', 'garlic'}), items_add=frozenset({'salt'}), confidence=0.913978494623656, lift=2.014216569434912), OrderedStatistic(items_base=frozenset({'olive oil', 'salt', 'garlic'}), items_add=frozenset({'pepper'}), confidence=0.35864978902953587, lift=3.214271453100667), OrderedStatistic(items_base=frozenset({'pepper', 'salt', 'garlic'}), items_add=frozenset({'olive oil'}), confidence=0.36324786324786323, lift=1.8125480507866656), OrderedStatistic(items_base=frozenset({'pepper', 'salt', 'olive oil'}), items_add=frozenset({'garlic'}), confidence=0.3651202749140894, lift=1.967790489760568)]),\n",
              " RelationRecord(items=frozenset({'pepper', 'salt', 'onions', 'garlic'}), support=0.014104691507014632, ordered_statistics=[OrderedStatistic(items_base=frozenset(), items_add=frozenset({'pepper', 'salt', 'onions', 'garlic'}), confidence=0.014104691507014632, lift=1.0), OrderedStatistic(items_base=frozenset({'garlic'}), items_add=frozenset({'pepper', 'salt', 'onions'}), confidence=0.07601626016260163, lift=2.2529588164734107), OrderedStatistic(items_base=frozenset({'onions'}), items_add=frozenset({'pepper', 'salt', 'garlic'}), confidence=0.07037129954841947, lift=2.3922633061870395), OrderedStatistic(items_base=frozenset({'pepper'}), items_add=frozenset({'salt', 'onions', 'garlic'}), confidence=0.12640829202343398, lift=3.1325628703676407), OrderedStatistic(items_base=frozenset({'salt'}), items_add=frozenset({'pepper', 'onions', 'garlic'}), confidence=0.03108377659574468, lift=2.003770065347081), OrderedStatistic(items_base=frozenset({'onions', 'garlic'}), items_add=frozenset({'pepper', 'salt'}), confidence=0.21098157201955622, lift=2.183033570631069), OrderedStatistic(items_base=frozenset({'pepper', 'garlic'}), items_add=frozenset({'salt', 'onions'}), confidence=0.4288990825688073, lift=3.8841147791647863), OrderedStatistic(items_base=frozenset({'salt', 'garlic'}), items_add=frozenset({'pepper', 'onions'}), confidence=0.14963990397439317, lift=3.9998504977671465), OrderedStatistic(items_base=frozenset({'pepper', 'onions'}), items_add=frozenset({'salt', 'garlic'}), confidence=0.37701612903225806, lift=3.9998504977671465), OrderedStatistic(items_base=frozenset({'salt', 'onions'}), items_add=frozenset({'pepper', 'garlic'}), confidence=0.12773224043715847, lift=3.8841147791647863), OrderedStatistic(items_base=frozenset({'pepper', 'salt'}), items_add=frozenset({'onions', 'garlic'}), confidence=0.1459417273673257, lift=2.1830335706310686), OrderedStatistic(items_base=frozenset({'pepper', 'onions', 'garlic'}), items_add=frozenset({'salt'}), confidence=0.9092382495948136, lift=2.003770065347081), OrderedStatistic(items_base=frozenset({'salt', 'onions', 'garlic'}), items_add=frozenset({'pepper'}), confidence=0.34953271028037386, lift=3.1325628703676407), OrderedStatistic(items_base=frozenset({'pepper', 'salt', 'garlic'}), items_add=frozenset({'onions'}), confidence=0.47948717948717945, lift=2.392263306187039), OrderedStatistic(items_base=frozenset({'pepper', 'salt', 'onions'}), items_add=frozenset({'garlic'}), confidence=0.41803278688524587, lift=2.2529588164734107)]),\n",
              " RelationRecord(items=frozenset({'salt', 'onions', 'water', 'garlic'}), support=0.012621310403781364, ordered_statistics=[OrderedStatistic(items_base=frozenset(), items_add=frozenset({'salt', 'onions', 'water', 'garlic'}), confidence=0.012621310403781364, lift=1.0), OrderedStatistic(items_base=frozenset({'garlic'}), items_add=frozenset({'salt', 'onions', 'water'}), confidence=0.06802168021680217, lift=2.181850249147653), OrderedStatistic(items_base=frozenset({'onions'}), items_add=frozenset({'salt', 'water', 'garlic'}), confidence=0.06297039638735574, lift=2.6672891862733623), OrderedStatistic(items_base=frozenset({'salt'}), items_add=frozenset({'onions', 'water', 'garlic'}), confidence=0.027814716312056734, lift=1.503128432874653), OrderedStatistic(items_base=frozenset({'water'}), items_add=frozenset({'salt', 'onions', 'garlic'}), confidence=0.06731929730454607, lift=1.6682602685302277), OrderedStatistic(items_base=frozenset({'onions', 'garlic'}), items_add=frozenset({'salt', 'water'}), confidence=0.1887927792403159, lift=1.8962232327031123), OrderedStatistic(items_base=frozenset({'salt', 'garlic'}), items_add=frozenset({'onions', 'water'}), confidence=0.13390237396639104, lift=2.697990386088773), OrderedStatistic(items_base=frozenset({'water', 'garlic'}), items_add=frozenset({'salt', 'onions'}), confidence=0.31277258566978194, lift=2.83247195410517), OrderedStatistic(items_base=frozenset({'salt', 'onions'}), items_add=frozenset({'water', 'garlic'}), confidence=0.11429872495446265, lift=2.83247195410517), OrderedStatistic(items_base=frozenset({'onions', 'water'}), items_add=frozenset({'salt', 'garlic'}), confidence=0.254305977710233, lift=2.6979903860887724), OrderedStatistic(items_base=frozenset({'salt', 'water'}), items_add=frozenset({'onions', 'garlic'}), confidence=0.12676767676767675, lift=1.896223232703112), OrderedStatistic(items_base=frozenset({'salt', 'onions', 'garlic'}), items_add=frozenset({'water'}), confidence=0.31277258566978194, lift=1.6682602685302277), OrderedStatistic(items_base=frozenset({'onions', 'water', 'garlic'}), items_add=frozenset({'salt'}), confidence=0.6820652173913043, lift=1.503128432874653), OrderedStatistic(items_base=frozenset({'salt', 'water', 'garlic'}), items_add=frozenset({'onions'}), confidence=0.5346112886048988, lift=2.6672891862733628), OrderedStatistic(items_base=frozenset({'salt', 'onions', 'water'}), items_add=frozenset({'garlic'}), confidence=0.40483870967741936, lift=2.181850249147653)]),\n",
              " RelationRecord(items=frozenset({'pepper', 'salt', 'onions', 'olive oil'}), support=0.010358525670035701, ordered_statistics=[OrderedStatistic(items_base=frozenset(), items_add=frozenset({'pepper', 'salt', 'onions', 'olive oil'}), confidence=0.010358525670035701, lift=1.0), OrderedStatistic(items_base=frozenset({'olive oil'}), items_add=frozenset({'pepper', 'salt', 'onions'}), confidence=0.051687366704303093, lift=1.5319026254075643), OrderedStatistic(items_base=frozenset({'onions'}), items_add=frozenset({'pepper', 'salt', 'olive oil'}), confidence=0.05168088309081786, lift=1.765941103139338), OrderedStatistic(items_base=frozenset({'pepper'}), items_add=frozenset({'salt', 'onions', 'olive oil'}), confidence=0.09283461018476791, lift=3.0693298299991345), OrderedStatistic(items_base=frozenset({'salt'}), items_add=frozenset({'pepper', 'onions', 'olive oil'}), confidence=0.02282801418439716, lift=2.0087642393146297), OrderedStatistic(items_base=frozenset({'onions', 'olive oil'}), items_add=frozenset({'pepper', 'salt'}), confidence=0.18667874943362028, lift=1.931571430794176), OrderedStatistic(items_base=frozenset({'pepper', 'olive oil'}), items_add=frozenset({'salt', 'onions'}), confidence=0.3135464231354642, lift=2.8394798346516286), OrderedStatistic(items_base=frozenset({'salt', 'olive oil'}), items_add=frozenset({'pepper', 'onions'}), confidence=0.09863538424706728, lift=2.636507911991165), OrderedStatistic(items_base=frozenset({'pepper', 'onions'}), items_add=frozenset({'salt', 'olive oil'}), confidence=0.2768817204301075, lift=2.636507911991165), OrderedStatistic(items_base=frozenset({'salt', 'onions'}), items_add=frozenset({'pepper', 'olive oil'}), confidence=0.09380692167577413, lift=2.839479834651629), OrderedStatistic(items_base=frozenset({'pepper', 'salt'}), items_add=frozenset({'onions', 'olive oil'}), confidence=0.10718002081165451, lift=1.9315714307941758), OrderedStatistic(items_base=frozenset({'pepper', 'onions', 'olive oil'}), items_add=frozenset({'salt'}), confidence=0.9115044247787609, lift=2.0087642393146297), OrderedStatistic(items_base=frozenset({'salt', 'onions', 'olive oil'}), items_add=frozenset({'pepper'}), confidence=0.342477140482128, lift=3.069329829999135), OrderedStatistic(items_base=frozenset({'pepper', 'salt', 'olive oil'}), items_add=frozenset({'onions'}), confidence=0.3539518900343642, lift=1.7659411031393382), OrderedStatistic(items_base=frozenset({'pepper', 'salt', 'onions'}), items_add=frozenset({'olive oil'}), confidence=0.30700447093889716, lift=1.5319026254075643)])]"
            ]
          },
          "metadata": {},
          "execution_count": 157
        }
      ]
    },
    {
      "cell_type": "markdown",
      "metadata": {
        "id": "XNcrT8C1K8gc"
      },
      "source": [
        "**5-itemset**\n",
        "\n",
        "**0.003972** best support value\n",
        "\n",
        "* salt, baking powder, sugar, large eggs, all-purpose flour\n",
        "* salt, unsalted butter, baking powder, sugar, all-purpose flour\n",
        "* salt, unsalted butter, sugar, large eggs, all-purpose flour\n",
        "* pepper, garlic, salt, onions, olive oil\n",
        "* pepper, salt, onions, water, garlic"
      ]
    },
    {
      "cell_type": "code",
      "metadata": {
        "colab": {
          "base_uri": "https://localhost:8080/"
        },
        "id": "IS_JbIdOMFX4",
        "outputId": "67f925e9-6910-481c-a2c8-2c1dbb861040"
      },
      "source": [
        "results = list(apriori(df_ingredients,min_support = 0.003972,max_length = 5))\n",
        "results = get_itemset(results,5)\n",
        "results"
      ],
      "execution_count": 158,
      "outputs": [
        {
          "output_type": "execute_result",
          "data": {
            "text/plain": [
              "[RelationRecord(items=frozenset({'salt', 'baking powder', 'sugar', 'large eggs', 'all-purpose flour'}), support=0.0045507115200885, ordered_statistics=[OrderedStatistic(items_base=frozenset(), items_add=frozenset({'baking powder', 'salt', 'sugar', 'large eggs', 'all-purpose flour'}), confidence=0.0045507115200885, lift=1.0), OrderedStatistic(items_base=frozenset({'all-purpose flour'}), items_add=frozenset({'sugar', 'baking powder', 'salt', 'large eggs'}), confidence=0.039075993091537135, lift=6.846733697016732), OrderedStatistic(items_base=frozenset({'baking powder'}), items_add=frozenset({'sugar', 'salt', 'large eggs', 'all-purpose flour'}), confidence=0.10414269275028769, lift=10.593788903964047), OrderedStatistic(items_base=frozenset({'large eggs'}), items_add=frozenset({'sugar', 'baking powder', 'salt', 'all-purpose flour'}), confidence=0.06139755766621438, lift=6.1357448708944995), OrderedStatistic(items_base=frozenset({'salt'}), items_add=frozenset({'sugar', 'baking powder', 'large eggs', 'all-purpose flour'}), confidence=0.010028812056737588, lift=1.8297521593792698), OrderedStatistic(items_base=frozenset({'sugar'}), items_add=frozenset({'baking powder', 'salt', 'large eggs', 'all-purpose flour'}), confidence=0.02813179981349083, lift=3.8058306319108306), OrderedStatistic(items_base=frozenset({'baking powder', 'all-purpose flour'}), items_add=frozenset({'sugar', 'salt', 'large eggs'}), confidence=0.157254561251086, lift=10.304189323230139), OrderedStatistic(items_base=frozenset({'large eggs', 'all-purpose flour'}), items_add=frozenset({'sugar', 'baking powder', 'salt'}), confidence=0.15576592082616178, lift=10.774667365112624), OrderedStatistic(items_base=frozenset({'salt', 'all-purpose flour'}), items_add=frozenset({'sugar', 'baking powder', 'large eggs'}), confidence=0.058785319909061384, lift=8.232842655151435), OrderedStatistic(items_base=frozenset({'sugar', 'all-purpose flour'}), items_add=frozenset({'baking powder', 'salt', 'large eggs'}), confidence=0.14263199369582347, lift=14.546269018609443), OrderedStatistic(items_base=frozenset({'baking powder', 'large eggs'}), items_add=frozenset({'sugar', 'salt', 'all-purpose flour'}), confidence=0.35145631067961164, lift=14.652854613177015), OrderedStatistic(items_base=frozenset({'baking powder', 'salt'}), items_add=frozenset({'sugar', 'large eggs', 'all-purpose flour'}), confidence=0.14074650077760498, lift=10.662954898911353), OrderedStatistic(items_base=frozenset({'sugar', 'baking powder'}), items_add=frozenset({'salt', 'large eggs', 'all-purpose flour'}), confidence=0.2486263736263736, lift=12.223566606446703), OrderedStatistic(items_base=frozenset({'salt', 'large eggs'}), items_add=frozenset({'sugar', 'baking powder', 'all-purpose flour'}), confidence=0.10647058823529411, lift=8.915286687306502), OrderedStatistic(items_base=frozenset({'sugar', 'large eggs'}), items_add=frozenset({'baking powder', 'salt', 'all-purpose flour'}), confidence=0.18952879581151832, lift=8.644860463999231), OrderedStatistic(items_base=frozenset({'sugar', 'salt'}), items_add=frozenset({'baking powder', 'large eggs', 'all-purpose flour'}), confidence=0.059131002940215616, lift=6.1891487130108835), OrderedStatistic(items_base=frozenset({'baking powder', 'large eggs', 'all-purpose flour'}), items_add=frozenset({'sugar', 'salt'}), confidence=0.47631578947368414, lift=6.189148713010883), OrderedStatistic(items_base=frozenset({'baking powder', 'salt', 'all-purpose flour'}), items_add=frozenset({'sugar', 'large eggs'}), confidence=0.20756880733944952, lift=8.644860463999231), OrderedStatistic(items_base=frozenset({'sugar', 'baking powder', 'all-purpose flour'}), items_add=frozenset({'salt', 'large eggs'}), confidence=0.38105263157894737, lift=8.915286687306502), OrderedStatistic(items_base=frozenset({'salt', 'large eggs', 'all-purpose flour'}), items_add=frozenset({'sugar', 'baking powder'}), confidence=0.2237330037082818, lift=12.223566606446703), OrderedStatistic(items_base=frozenset({'sugar', 'large eggs', 'all-purpose flour'}), items_add=frozenset({'baking powder', 'salt'}), confidence=0.34476190476190477, lift=10.662954898911353), OrderedStatistic(items_base=frozenset({'sugar', 'salt', 'all-purpose flour'}), items_add=frozenset({'baking powder', 'large eggs'}), confidence=0.18972746331236895, lift=14.652854613177015), OrderedStatistic(items_base=frozenset({'baking powder', 'salt', 'large eggs'}), items_add=frozenset({'sugar', 'all-purpose flour'}), confidence=0.4641025641025641, lift=14.546269018609443), OrderedStatistic(items_base=frozenset({'sugar', 'baking powder', 'large eggs'}), items_add=frozenset({'salt', 'all-purpose flour'}), confidence=0.6373239436619719, lift=8.232842655151435), OrderedStatistic(items_base=frozenset({'sugar', 'baking powder', 'salt'}), items_add=frozenset({'large eggs', 'all-purpose flour'}), confidence=0.31478260869565217, lift=10.774667365112624), OrderedStatistic(items_base=frozenset({'sugar', 'salt', 'large eggs'}), items_add=frozenset({'baking powder', 'all-purpose flour'}), confidence=0.2981878088962108, lift=10.304189323230139), OrderedStatistic(items_base=frozenset({'baking powder', 'salt', 'large eggs', 'all-purpose flour'}), items_add=frozenset({'sugar'}), confidence=0.6156462585034014, lift=3.805830631910831), OrderedStatistic(items_base=frozenset({'sugar', 'baking powder', 'large eggs', 'all-purpose flour'}), items_add=frozenset({'salt'}), confidence=0.8302752293577981, lift=1.8297521593792696), OrderedStatistic(items_base=frozenset({'sugar', 'baking powder', 'salt', 'all-purpose flour'}), items_add=frozenset({'large eggs'}), confidence=0.45477386934673364, lift=6.1357448708944995), OrderedStatistic(items_base=frozenset({'sugar', 'salt', 'large eggs', 'all-purpose flour'}), items_add=frozenset({'baking powder'}), confidence=0.4629156010230179, lift=10.593788903964047), OrderedStatistic(items_base=frozenset({'sugar', 'baking powder', 'salt', 'large eggs'}), items_add=frozenset({'all-purpose flour'}), confidence=0.7973568281938326, lift=6.846733697016731)]),\n",
              " RelationRecord(items=frozenset({'salt', 'unsalted butter', 'baking powder', 'sugar', 'all-purpose flour'}), support=0.0039724443103534976, ordered_statistics=[OrderedStatistic(items_base=frozenset(), items_add=frozenset({'baking powder', 'salt', 'sugar', 'unsalted butter', 'all-purpose flour'}), confidence=0.0039724443103534976, lift=1.0), OrderedStatistic(items_base=frozenset({'all-purpose flour'}), items_add=frozenset({'unsalted butter', 'baking powder', 'salt', 'sugar'}), confidence=0.0341105354058722, lift=6.399586958646985), OrderedStatistic(items_base=frozenset({'baking powder'}), items_add=frozenset({'unsalted butter', 'sugar', 'salt', 'all-purpose flour'}), confidence=0.09090909090909091, lift=10.272210743801654), OrderedStatistic(items_base=frozenset({'salt'}), items_add=frozenset({'unsalted butter', 'baking powder', 'sugar', 'all-purpose flour'}), confidence=0.008754432624113476, lift=1.8135354332890072), OrderedStatistic(items_base=frozenset({'sugar'}), items_add=frozenset({'unsalted butter', 'baking powder', 'salt', 'all-purpose flour'}), confidence=0.024557040721168794, lift=3.5261073561146845), OrderedStatistic(items_base=frozenset({'unsalted butter'}), items_add=frozenset({'sugar', 'baking powder', 'salt', 'all-purpose flour'}), confidence=0.056793673616103525, lift=5.675657222127893), OrderedStatistic(items_base=frozenset({'baking powder', 'all-purpose flour'}), items_add=frozenset({'unsalted butter', 'sugar', 'salt'}), confidence=0.1372719374456994, lift=10.243628592805344), OrderedStatistic(items_base=frozenset({'salt', 'all-purpose flour'}), items_add=frozenset({'unsalted butter', 'baking powder', 'sugar'}), confidence=0.05131536213056188, lift=7.880375341239259), OrderedStatistic(items_base=frozenset({'sugar', 'all-purpose flour'}), items_add=frozenset({'unsalted butter', 'baking powder', 'salt'}), confidence=0.12450748620961387, lift=13.567563716441594), OrderedStatistic(items_base=frozenset({'unsalted butter', 'all-purpose flour'}), items_add=frozenset({'sugar', 'baking powder', 'salt'}), confidence=0.14670380687093781, lift=10.147821242582053), OrderedStatistic(items_base=frozenset({'baking powder', 'salt'}), items_add=frozenset({'unsalted butter', 'sugar', 'all-purpose flour'}), confidence=0.12286158631415242, lift=10.83524774735942), OrderedStatistic(items_base=frozenset({'sugar', 'baking powder'}), items_add=frozenset({'unsalted butter', 'salt', 'all-purpose flour'}), confidence=0.21703296703296704, lift=11.825026343519493), OrderedStatistic(items_base=frozenset({'unsalted butter', 'baking powder'}), items_add=frozenset({'sugar', 'salt', 'all-purpose flour'}), confidence=0.3231083844580777, lift=13.47097786523646), OrderedStatistic(items_base=frozenset({'sugar', 'salt'}), items_add=frozenset({'unsalted butter', 'baking powder', 'all-purpose flour'}), confidence=0.051617118588696505, lift=5.671323963388991), OrderedStatistic(items_base=frozenset({'unsalted butter', 'salt'}), items_add=frozenset({'sugar', 'baking powder', 'all-purpose flour'}), confidence=0.10934256055363323, lift=9.155770533600439), OrderedStatistic(items_base=frozenset({'sugar', 'unsalted butter'}), items_add=frozenset({'baking powder', 'salt', 'all-purpose flour'}), confidence=0.191747572815534, lift=8.746064175647993), OrderedStatistic(items_base=frozenset({'baking powder', 'salt', 'all-purpose flour'}), items_add=frozenset({'unsalted butter', 'sugar'}), confidence=0.18119266055045874, lift=8.746064175647993), OrderedStatistic(items_base=frozenset({'sugar', 'baking powder', 'all-purpose flour'}), items_add=frozenset({'unsalted butter', 'salt'}), confidence=0.33263157894736844, lift=9.155770533600437), OrderedStatistic(items_base=frozenset({'unsalted butter', 'baking powder', 'all-purpose flour'}), items_add=frozenset({'sugar', 'salt'}), confidence=0.4364640883977901, lift=5.671323963388992), OrderedStatistic(items_base=frozenset({'sugar', 'salt', 'all-purpose flour'}), items_add=frozenset({'unsalted butter', 'baking powder'}), confidence=0.16561844863731656, lift=13.47097786523646), OrderedStatistic(items_base=frozenset({'unsalted butter', 'salt', 'all-purpose flour'}), items_add=frozenset({'sugar', 'baking powder'}), confidence=0.21643835616438356, lift=11.825026343519493), OrderedStatistic(items_base=frozenset({'sugar', 'unsalted butter', 'all-purpose flour'}), items_add=frozenset({'baking powder', 'salt'}), confidence=0.35033259423503327, lift=10.83524774735942), OrderedStatistic(items_base=frozenset({'sugar', 'baking powder', 'salt'}), items_add=frozenset({'unsalted butter', 'all-purpose flour'}), confidence=0.2747826086956522, lift=10.147821242582053), OrderedStatistic(items_base=frozenset({'unsalted butter', 'baking powder', 'salt'}), items_add=frozenset({'sugar', 'all-purpose flour'}), confidence=0.4328767123287671, lift=13.567563716441594), OrderedStatistic(items_base=frozenset({'sugar', 'baking powder', 'unsalted butter'}), items_add=frozenset({'salt', 'all-purpose flour'}), confidence=0.6100386100386102, lift=7.88037534123926), OrderedStatistic(items_base=frozenset({'sugar', 'unsalted butter', 'salt'}), items_add=frozenset({'baking powder', 'all-purpose flour'}), confidence=0.2964352720450282, lift=10.243628592805344), OrderedStatistic(items_base=frozenset({'sugar', 'baking powder', 'salt', 'all-purpose flour'}), items_add=frozenset({'unsalted butter'}), confidence=0.3969849246231156, lift=5.675657222127893), OrderedStatistic(items_base=frozenset({'unsalted butter', 'baking powder', 'salt', 'all-purpose flour'}), items_add=frozenset({'sugar'}), confidence=0.5703971119133574, lift=3.526107356114684), OrderedStatistic(items_base=frozenset({'sugar', 'baking powder', 'unsalted butter', 'all-purpose flour'}), items_add=frozenset({'salt'}), confidence=0.8229166666666667, lift=1.8135354332890072), OrderedStatistic(items_base=frozenset({'sugar', 'unsalted butter', 'salt', 'all-purpose flour'}), items_add=frozenset({'baking powder'}), confidence=0.4488636363636364, lift=10.272210743801654), OrderedStatistic(items_base=frozenset({'sugar', 'baking powder', 'salt', 'unsalted butter'}), items_add=frozenset({'all-purpose flour'}), confidence=0.7452830188679246, lift=6.399586958646985)]),\n",
              " RelationRecord(items=frozenset({'salt', 'unsalted butter', 'sugar', 'large eggs', 'all-purpose flour'}), support=0.0046512797304771964, ordered_statistics=[OrderedStatistic(items_base=frozenset(), items_add=frozenset({'sugar', 'salt', 'unsalted butter', 'large eggs', 'all-purpose flour'}), confidence=0.0046512797304771964, lift=1.0), OrderedStatistic(items_base=frozenset({'all-purpose flour'}), items_add=frozenset({'unsalted butter', 'sugar', 'salt', 'large eggs'}), confidence=0.03993955094991365, lift=6.10982961339179), OrderedStatistic(items_base=frozenset({'large eggs'}), items_add=frozenset({'unsalted butter', 'sugar', 'salt', 'all-purpose flour'}), confidence=0.06275440976933515, lift=7.090891744788456), OrderedStatistic(items_base=frozenset({'salt'}), items_add=frozenset({'unsalted butter', 'sugar', 'large eggs', 'all-purpose flour'}), confidence=0.010250443262411348, lift=1.6640862462006079), OrderedStatistic(items_base=frozenset({'sugar'}), items_add=frozenset({'unsalted butter', 'salt', 'large eggs', 'all-purpose flour'}), confidence=0.028753497046938144, lift=3.5627463911056623), OrderedStatistic(items_base=frozenset({'unsalted butter'}), items_add=frozenset({'sugar', 'salt', 'large eggs', 'all-purpose flour'}), confidence=0.06649892163910856, lift=6.764522018603334), OrderedStatistic(items_base=frozenset({'large eggs', 'all-purpose flour'}), items_add=frozenset({'unsalted butter', 'sugar', 'salt'}), confidence=0.15920826161790017, lift=11.88058048328398), OrderedStatistic(items_base=frozenset({'salt', 'all-purpose flour'}), items_add=frozenset({'unsalted butter', 'sugar', 'large eggs'}), confidence=0.06008444300097435, lift=6.529504469728835), OrderedStatistic(items_base=frozenset({'sugar', 'all-purpose flour'}), items_add=frozenset({'unsalted butter', 'salt', 'large eggs'}), confidence=0.1457840819542947, lift=11.550629632769159), OrderedStatistic(items_base=frozenset({'unsalted butter', 'all-purpose flour'}), items_add=frozenset({'sugar', 'salt', 'large eggs'}), confidence=0.17177344475394618, lift=11.255546938457092), OrderedStatistic(items_base=frozenset({'salt', 'large eggs'}), items_add=frozenset({'unsalted butter', 'sugar', 'all-purpose flour'}), confidence=0.10882352941176471, lift=9.597221859919134), OrderedStatistic(items_base=frozenset({'sugar', 'large eggs'}), items_add=frozenset({'unsalted butter', 'salt', 'all-purpose flour'}), confidence=0.193717277486911, lift=10.554672595567668), OrderedStatistic(items_base=frozenset({'unsalted butter', 'large eggs'}), items_add=frozenset({'sugar', 'salt', 'all-purpose flour'}), confidence=0.2371794871794872, lift=9.888445412030318), OrderedStatistic(items_base=frozenset({'sugar', 'salt'}), items_add=frozenset({'unsalted butter', 'large eggs', 'all-purpose flour'}), confidence=0.06043776543613198, lift=5.103719071033362), OrderedStatistic(items_base=frozenset({'unsalted butter', 'salt'}), items_add=frozenset({'sugar', 'large eggs', 'all-purpose flour'}), confidence=0.12802768166089964, lift=9.699377162629757), OrderedStatistic(items_base=frozenset({'sugar', 'unsalted butter'}), items_add=frozenset({'salt', 'large eggs', 'all-purpose flour'}), confidence=0.22451456310679616, lift=11.038123897416204), OrderedStatistic(items_base=frozenset({'salt', 'large eggs', 'all-purpose flour'}), items_add=frozenset({'unsalted butter', 'sugar'}), confidence=0.22867737948084055, lift=11.038123897416204), OrderedStatistic(items_base=frozenset({'sugar', 'large eggs', 'all-purpose flour'}), items_add=frozenset({'unsalted butter', 'salt'}), confidence=0.3523809523809524, lift=9.699377162629759), OrderedStatistic(items_base=frozenset({'unsalted butter', 'large eggs', 'all-purpose flour'}), items_add=frozenset({'sugar', 'salt'}), confidence=0.39278131634819535, lift=5.103719071033362), OrderedStatistic(items_base=frozenset({'sugar', 'salt', 'all-purpose flour'}), items_add=frozenset({'unsalted butter', 'large eggs'}), confidence=0.19392033542976939, lift=9.888445412030318), OrderedStatistic(items_base=frozenset({'unsalted butter', 'salt', 'all-purpose flour'}), items_add=frozenset({'sugar', 'large eggs'}), confidence=0.2534246575342466, lift=10.55467259556767), OrderedStatistic(items_base=frozenset({'sugar', 'unsalted butter', 'all-purpose flour'}), items_add=frozenset({'salt', 'large eggs'}), confidence=0.41019955654101997, lift=9.597221859919134), OrderedStatistic(items_base=frozenset({'sugar', 'salt', 'large eggs'}), items_add=frozenset({'unsalted butter', 'all-purpose flour'}), confidence=0.30477759472817134, lift=11.255546938457092), OrderedStatistic(items_base=frozenset({'unsalted butter', 'salt', 'large eggs'}), items_add=frozenset({'sugar', 'all-purpose flour'}), confidence=0.36852589641434264, lift=11.550629632769159), OrderedStatistic(items_base=frozenset({'sugar', 'unsalted butter', 'large eggs'}), items_add=frozenset({'salt', 'all-purpose flour'}), confidence=0.505464480874317, lift=6.529504469728835), OrderedStatistic(items_base=frozenset({'sugar', 'unsalted butter', 'salt'}), items_add=frozenset({'large eggs', 'all-purpose flour'}), confidence=0.34709193245778613, lift=11.88058048328398), OrderedStatistic(items_base=frozenset({'sugar', 'salt', 'large eggs', 'all-purpose flour'}), items_add=frozenset({'unsalted butter'}), confidence=0.4731457800511509, lift=6.7645220186033335), OrderedStatistic(items_base=frozenset({'unsalted butter', 'salt', 'large eggs', 'all-purpose flour'}), items_add=frozenset({'sugar'}), confidence=0.5763239875389408, lift=3.5627463911056623), OrderedStatistic(items_base=frozenset({'sugar', 'unsalted butter', 'large eggs', 'all-purpose flour'}), items_add=frozenset({'salt'}), confidence=0.7551020408163266, lift=1.664086246200608), OrderedStatistic(items_base=frozenset({'sugar', 'unsalted butter', 'salt', 'all-purpose flour'}), items_add=frozenset({'large eggs'}), confidence=0.5255681818181819, lift=7.090891744788455), OrderedStatistic(items_base=frozenset({'sugar', 'unsalted butter', 'salt', 'large eggs'}), items_add=frozenset({'all-purpose flour'}), confidence=0.7115384615384616, lift=6.10982961339179)]),\n",
              " RelationRecord(items=frozenset({'pepper', 'garlic', 'salt', 'onions', 'olive oil'}), support=0.004827274098657414, ordered_statistics=[OrderedStatistic(items_base=frozenset(), items_add=frozenset({'pepper', 'olive oil', 'salt', 'onions', 'garlic'}), confidence=0.004827274098657414, lift=1.0), OrderedStatistic(items_base=frozenset({'garlic'}), items_add=frozenset({'pepper', 'salt', 'onions', 'olive oil'}), confidence=0.026016260162601626, lift=2.5115794458915466), OrderedStatistic(items_base=frozenset({'olive oil'}), items_add=frozenset({'pepper', 'salt', 'onions', 'garlic'}), confidence=0.024087316522393674, lift=1.7077520986839323), OrderedStatistic(items_base=frozenset({'onions'}), items_add=frozenset({'pepper', 'olive oil', 'salt', 'garlic'}), confidence=0.02408429503261415, lift=2.2539500014757534), OrderedStatistic(items_base=frozenset({'pepper'}), items_add=frozenset({'olive oil', 'salt', 'onions', 'garlic'}), confidence=0.04326273095989184, lift=3.533330310469688), OrderedStatistic(items_base=frozenset({'salt'}), items_add=frozenset({'pepper', 'olive oil', 'onions', 'garlic'}), confidence=0.010638297872340425, lift=2.0440949737897007), OrderedStatistic(items_base=frozenset({'olive oil', 'garlic'}), items_add=frozenset({'pepper', 'salt', 'onions'}), confidence=0.0923076923076923, lift=2.7358019030150174), OrderedStatistic(items_base=frozenset({'onions', 'garlic'}), items_add=frozenset({'pepper', 'salt', 'olive oil'}), confidence=0.07220759684091763, lift=2.4673410281363037), OrderedStatistic(items_base=frozenset({'pepper', 'garlic'}), items_add=frozenset({'salt', 'onions', 'olive oil'}), confidence=0.14678899082568805, lift=4.853188130590953), OrderedStatistic(items_base=frozenset({'salt', 'garlic'}), items_add=frozenset({'pepper', 'onions', 'olive oil'}), confidence=0.05121365697519338, lift=4.506575204715357), OrderedStatistic(items_base=frozenset({'onions', 'olive oil'}), items_add=frozenset({'pepper', 'salt', 'garlic'}), confidence=0.08699592206615314, lift=2.957415217315534), OrderedStatistic(items_base=frozenset({'pepper', 'olive oil'}), items_add=frozenset({'salt', 'onions', 'garlic'}), confidence=0.14611872146118723, lift=3.6210131011820943), OrderedStatistic(items_base=frozenset({'salt', 'olive oil'}), items_add=frozenset({'pepper', 'onions', 'garlic'}), confidence=0.045966004309312906, lift=2.963131046026923), OrderedStatistic(items_base=frozenset({'pepper', 'onions'}), items_add=frozenset({'olive oil', 'salt', 'garlic'}), confidence=0.12903225806451613, lift=4.330910575745202), OrderedStatistic(items_base=frozenset({'salt', 'onions'}), items_add=frozenset({'pepper', 'olive oil', 'garlic'}), confidence=0.04371584699453552, lift=3.739256125506787), OrderedStatistic(items_base=frozenset({'pepper', 'salt'}), items_add=frozenset({'olive oil', 'onions', 'garlic'}), confidence=0.04994797086368366, lift=2.4895120214688644), OrderedStatistic(items_base=frozenset({'olive oil', 'onions', 'garlic'}), items_add=frozenset({'pepper', 'salt'}), confidence=0.24060150375939848, lift=2.4895120214688644), OrderedStatistic(items_base=frozenset({'pepper', 'olive oil', 'garlic'}), items_add=frozenset({'salt', 'onions'}), confidence=0.4129032258064516, lift=3.7392561255067864), OrderedStatistic(items_base=frozenset({'olive oil', 'salt', 'garlic'}), items_add=frozenset({'pepper', 'onions'}), confidence=0.1620253164556962, lift=4.330910575745202), OrderedStatistic(items_base=frozenset({'pepper', 'onions', 'garlic'}), items_add=frozenset({'salt', 'olive oil'}), confidence=0.3111831442463533, lift=2.963131046026923), OrderedStatistic(items_base=frozenset({'salt', 'onions', 'garlic'}), items_add=frozenset({'pepper', 'olive oil'}), confidence=0.11962616822429907, lift=3.6210131011820943), OrderedStatistic(items_base=frozenset({'pepper', 'salt', 'garlic'}), items_add=frozenset({'onions', 'olive oil'}), confidence=0.16410256410256407, lift=2.9574152173155337), OrderedStatistic(items_base=frozenset({'pepper', 'onions', 'olive oil'}), items_add=frozenset({'salt', 'garlic'}), confidence=0.4247787610619469, lift=4.506575204715357), OrderedStatistic(items_base=frozenset({'salt', 'onions', 'olive oil'}), items_add=frozenset({'pepper', 'garlic'}), confidence=0.1596009975062344, lift=4.853188130590953), OrderedStatistic(items_base=frozenset({'pepper', 'salt', 'olive oil'}), items_add=frozenset({'onions', 'garlic'}), confidence=0.16494845360824742, lift=2.467341028136304), OrderedStatistic(items_base=frozenset({'pepper', 'salt', 'onions'}), items_add=frozenset({'olive oil', 'garlic'}), confidence=0.14307004470938897, lift=2.735801903015018), OrderedStatistic(items_base=frozenset({'pepper', 'olive oil', 'onions', 'garlic'}), items_add=frozenset({'salt'}), confidence=0.9275362318840579, lift=2.0440949737897007), OrderedStatistic(items_base=frozenset({'olive oil', 'salt', 'onions', 'garlic'}), items_add=frozenset({'pepper'}), confidence=0.3942505133470226, lift=3.5333303104696885), OrderedStatistic(items_base=frozenset({'pepper', 'olive oil', 'salt', 'garlic'}), items_add=frozenset({'onions'}), confidence=0.4517647058823529, lift=2.2539500014757534), OrderedStatistic(items_base=frozenset({'pepper', 'salt', 'onions', 'garlic'}), items_add=frozenset({'olive oil'}), confidence=0.3422459893048128, lift=1.7077520986839323), OrderedStatistic(items_base=frozenset({'pepper', 'salt', 'onions', 'olive oil'}), items_add=frozenset({'garlic'}), confidence=0.46601941747572817, lift=2.5115794458915466)]),\n",
              " RelationRecord(items=frozenset({'pepper', 'salt', 'onions', 'water', 'garlic'}), support=0.004324433046713934, ordered_statistics=[OrderedStatistic(items_base=frozenset(), items_add=frozenset({'pepper', 'salt', 'onions', 'water', 'garlic'}), confidence=0.004324433046713934, lift=1.0), OrderedStatistic(items_base=frozenset({'garlic'}), items_add=frozenset({'pepper', 'salt', 'onions', 'water'}), confidence=0.023306233062330626, lift=2.5189731353835283), OrderedStatistic(items_base=frozenset({'onions'}), items_add=frozenset({'pepper', 'salt', 'water', 'garlic'}), confidence=0.021575514300050176, lift=3.166584892140943), OrderedStatistic(items_base=frozenset({'pepper'}), items_add=frozenset({'salt', 'onions', 'water', 'garlic'}), confidence=0.03875619648490311, lift=3.0706951374313474), OrderedStatistic(items_base=frozenset({'salt'}), items_add=frozenset({'pepper', 'onions', 'water', 'garlic'}), confidence=0.009530141843971631, lift=2.027015303219934), OrderedStatistic(items_base=frozenset({'water'}), items_add=frozenset({'pepper', 'salt', 'onions', 'garlic'}), confidence=0.023065575968888294, lift=1.635312332596369), OrderedStatistic(items_base=frozenset({'onions', 'garlic'}), items_add=frozenset({'pepper', 'salt', 'water'}), confidence=0.06468597216998871, lift=3.4122279271739138), OrderedStatistic(items_base=frozenset({'pepper', 'garlic'}), items_add=frozenset({'salt', 'onions', 'water'}), confidence=0.13149847094801223, lift=4.217919502811482), OrderedStatistic(items_base=frozenset({'salt', 'garlic'}), items_add=frozenset({'pepper', 'onions', 'water'}), confidence=0.045878901040277406, lift=4.4945502708768315), OrderedStatistic(items_base=frozenset({'water', 'garlic'}), items_add=frozenset({'pepper', 'salt', 'onions'}), confidence=0.10716510903426792, lift=3.1761438500215884), OrderedStatistic(items_base=frozenset({'pepper', 'onions'}), items_add=frozenset({'salt', 'water', 'garlic'}), confidence=0.11559139784946237, lift=4.896200487821636), OrderedStatistic(items_base=frozenset({'salt', 'onions'}), items_add=frozenset({'pepper', 'water', 'garlic'}), confidence=0.039162112932604735, lift=5.298074421025241), OrderedStatistic(items_base=frozenset({'onions', 'water'}), items_add=frozenset({'pepper', 'salt', 'garlic'}), confidence=0.08713272543059777, lift=2.9620658301509364), OrderedStatistic(items_base=frozenset({'pepper', 'salt'}), items_add=frozenset({'onions', 'water', 'garlic'}), confidence=0.044745057232049947, lift=2.418056937972221), OrderedStatistic(items_base=frozenset({'pepper', 'water'}), items_add=frozenset({'salt', 'onions', 'garlic'}), confidence=0.2025912838633687, lift=5.020477086842135), OrderedStatistic(items_base=frozenset({'salt', 'water'}), items_add=frozenset({'pepper', 'onions', 'garlic'}), confidence=0.043434343434343436, lift=2.799931241098178), OrderedStatistic(items_base=frozenset({'pepper', 'onions', 'garlic'}), items_add=frozenset({'salt', 'water'}), confidence=0.2787682333873582, lift=2.799931241098178), OrderedStatistic(items_base=frozenset({'salt', 'onions', 'garlic'}), items_add=frozenset({'pepper', 'water'}), confidence=0.10716510903426792, lift=5.020477086842135), OrderedStatistic(items_base=frozenset({'onions', 'water', 'garlic'}), items_add=frozenset({'pepper', 'salt'}), confidence=0.23369565217391305, lift=2.4180569379722208), OrderedStatistic(items_base=frozenset({'pepper', 'salt', 'garlic'}), items_add=frozenset({'onions', 'water'}), confidence=0.147008547008547, lift=2.962065830150937), OrderedStatistic(items_base=frozenset({'pepper', 'water', 'garlic'}), items_add=frozenset({'salt', 'onions'}), confidence=0.5850340136054422, lift=5.29807442102524), OrderedStatistic(items_base=frozenset({'salt', 'water', 'garlic'}), items_add=frozenset({'pepper', 'onions'}), confidence=0.18317358892438765, lift=4.896200487821636), OrderedStatistic(items_base=frozenset({'pepper', 'salt', 'onions'}), items_add=frozenset({'water', 'garlic'}), confidence=0.12816691505216096, lift=3.176143850021589), OrderedStatistic(items_base=frozenset({'pepper', 'onions', 'water'}), items_add=frozenset({'salt', 'garlic'}), confidence=0.4236453201970444, lift=4.4945502708768315), OrderedStatistic(items_base=frozenset({'salt', 'onions', 'water'}), items_add=frozenset({'pepper', 'garlic'}), confidence=0.13870967741935483, lift=4.217919502811482), OrderedStatistic(items_base=frozenset({'pepper', 'salt', 'water'}), items_add=frozenset({'onions', 'garlic'}), confidence=0.22811671087533156, lift=3.4122279271739138), OrderedStatistic(items_base=frozenset({'pepper', 'salt', 'onions', 'garlic'}), items_add=frozenset({'water'}), confidence=0.30659536541889487, lift=1.6353123325963692), OrderedStatistic(items_base=frozenset({'pepper', 'onions', 'water', 'garlic'}), items_add=frozenset({'salt'}), confidence=0.9197860962566846, lift=2.027015303219934), OrderedStatistic(items_base=frozenset({'salt', 'onions', 'water', 'garlic'}), items_add=frozenset({'pepper'}), confidence=0.3426294820717132, lift=3.0706951374313474), OrderedStatistic(items_base=frozenset({'pepper', 'salt', 'water', 'garlic'}), items_add=frozenset({'onions'}), confidence=0.6346863468634686, lift=3.166584892140943), OrderedStatistic(items_base=frozenset({'pepper', 'salt', 'onions', 'water'}), items_add=frozenset({'garlic'}), confidence=0.4673913043478261, lift=2.518973135383528)])]"
            ]
          },
          "metadata": {},
          "execution_count": 158
        }
      ]
    },
    {
      "cell_type": "markdown",
      "metadata": {
        "id": "sfgvP6qBM6vi"
      },
      "source": [
        "# Question 2"
      ]
    },
    {
      "cell_type": "code",
      "metadata": {
        "id": "trYmDg19M-va"
      },
      "source": [
        "# reading the file\n",
        "df = pd.read_json(\"train.json\")\n",
        "df_ingredients = df['ingredients'].tolist()"
      ],
      "execution_count": 159,
      "outputs": []
    },
    {
      "cell_type": "code",
      "metadata": {
        "id": "A1-YDJaXNCAK"
      },
      "source": [
        "s = []\n",
        "for index,row in df.iterrows():\n",
        "  s.append(len(row['ingredients']))\n",
        "\n",
        "df['length'] = s\n",
        "# df.sort_values()\n",
        "df = df.sort_values('length',ascending=False)"
      ],
      "execution_count": 160,
      "outputs": []
    },
    {
      "cell_type": "code",
      "metadata": {
        "colab": {
          "base_uri": "https://localhost:8080/",
          "height": 423
        },
        "id": "raA9iQO9NDHn",
        "outputId": "427b6a82-d982-4db2-c1a3-5456cf532b7b"
      },
      "source": [
        "df"
      ],
      "execution_count": 161,
      "outputs": [
        {
          "output_type": "execute_result",
          "data": {
            "text/html": [
              "<div>\n",
              "<style scoped>\n",
              "    .dataframe tbody tr th:only-of-type {\n",
              "        vertical-align: middle;\n",
              "    }\n",
              "\n",
              "    .dataframe tbody tr th {\n",
              "        vertical-align: top;\n",
              "    }\n",
              "\n",
              "    .dataframe thead th {\n",
              "        text-align: right;\n",
              "    }\n",
              "</style>\n",
              "<table border=\"1\" class=\"dataframe\">\n",
              "  <thead>\n",
              "    <tr style=\"text-align: right;\">\n",
              "      <th></th>\n",
              "      <th>id</th>\n",
              "      <th>cuisine</th>\n",
              "      <th>ingredients</th>\n",
              "      <th>length</th>\n",
              "    </tr>\n",
              "  </thead>\n",
              "  <tbody>\n",
              "    <tr>\n",
              "      <th>15289</th>\n",
              "      <td>3885</td>\n",
              "      <td>italian</td>\n",
              "      <td>[fettucine, fresh marjoram, minced garlic, oli...</td>\n",
              "      <td>65</td>\n",
              "    </tr>\n",
              "    <tr>\n",
              "      <th>30350</th>\n",
              "      <td>13430</td>\n",
              "      <td>brazilian</td>\n",
              "      <td>[marshmallows, fresh corn, cheddar cheese, shr...</td>\n",
              "      <td>59</td>\n",
              "    </tr>\n",
              "    <tr>\n",
              "      <th>26103</th>\n",
              "      <td>13049</td>\n",
              "      <td>mexican</td>\n",
              "      <td>[vanilla ice cream, lime, garlic powder, zucch...</td>\n",
              "      <td>52</td>\n",
              "    </tr>\n",
              "    <tr>\n",
              "      <th>10513</th>\n",
              "      <td>49282</td>\n",
              "      <td>mexican</td>\n",
              "      <td>[condensed cream of chicken soup, pepper, refr...</td>\n",
              "      <td>49</td>\n",
              "    </tr>\n",
              "    <tr>\n",
              "      <th>22906</th>\n",
              "      <td>2253</td>\n",
              "      <td>indian</td>\n",
              "      <td>[white vinegar, sparkling lemonade, coconut su...</td>\n",
              "      <td>49</td>\n",
              "    </tr>\n",
              "    <tr>\n",
              "      <th>...</th>\n",
              "      <td>...</td>\n",
              "      <td>...</td>\n",
              "      <td>...</td>\n",
              "      <td>...</td>\n",
              "    </tr>\n",
              "    <tr>\n",
              "      <th>32105</th>\n",
              "      <td>12805</td>\n",
              "      <td>japanese</td>\n",
              "      <td>[water]</td>\n",
              "      <td>1</td>\n",
              "    </tr>\n",
              "    <tr>\n",
              "      <th>21008</th>\n",
              "      <td>39221</td>\n",
              "      <td>italian</td>\n",
              "      <td>[cherry tomatoes]</td>\n",
              "      <td>1</td>\n",
              "    </tr>\n",
              "    <tr>\n",
              "      <th>34531</th>\n",
              "      <td>10816</td>\n",
              "      <td>greek</td>\n",
              "      <td>[phyllo]</td>\n",
              "      <td>1</td>\n",
              "    </tr>\n",
              "    <tr>\n",
              "      <th>18136</th>\n",
              "      <td>39186</td>\n",
              "      <td>thai</td>\n",
              "      <td>[jasmine rice]</td>\n",
              "      <td>1</td>\n",
              "    </tr>\n",
              "    <tr>\n",
              "      <th>2088</th>\n",
              "      <td>7833</td>\n",
              "      <td>vietnamese</td>\n",
              "      <td>[dried rice noodles]</td>\n",
              "      <td>1</td>\n",
              "    </tr>\n",
              "  </tbody>\n",
              "</table>\n",
              "<p>39774 rows × 4 columns</p>\n",
              "</div>"
            ],
            "text/plain": [
              "          id  ... length\n",
              "15289   3885  ...     65\n",
              "30350  13430  ...     59\n",
              "26103  13049  ...     52\n",
              "10513  49282  ...     49\n",
              "22906   2253  ...     49\n",
              "...      ...  ...    ...\n",
              "32105  12805  ...      1\n",
              "21008  39221  ...      1\n",
              "34531  10816  ...      1\n",
              "18136  39186  ...      1\n",
              "2088    7833  ...      1\n",
              "\n",
              "[39774 rows x 4 columns]"
            ]
          },
          "metadata": {},
          "execution_count": 161
        }
      ]
    },
    {
      "cell_type": "code",
      "metadata": {
        "id": "w_-lNQB7NDup"
      },
      "source": [
        "# creating the ingredients basket\n",
        "ingredient_basket = []\n",
        "for ingredient_list in df_ingredients:\n",
        "  for ingredient in ingredient_list:\n",
        "    if ingredient in ingredient_basket:\n",
        "      pass\n",
        "    else:\n",
        "      ingredient_basket.append(ingredient)\n",
        "\n",
        "# calculate frequency of each ingredient\n",
        "ingredient_frequency = {}\n",
        "for index,row in df.iterrows():\n",
        "  ingredient_list = row['ingredients']\n",
        "  for ingredient in ingredient_list:\n",
        "    if ingredient in ingredient_frequency:\n",
        "      ingredient_frequency[ingredient] = ingredient_frequency[ingredient]+1\n",
        "    else:\n",
        "      ingredient_frequency[ingredient] = 1"
      ],
      "execution_count": 162,
      "outputs": []
    },
    {
      "cell_type": "code",
      "metadata": {
        "id": "KJwHy2PKNHVY"
      },
      "source": [
        "# creating the weighted probability list\n",
        "weighted = []\n",
        "for ingredient in ingredient_basket:\n",
        "  weighted.append(ingredient_frequency[ingredient])"
      ],
      "execution_count": 163,
      "outputs": []
    },
    {
      "cell_type": "code",
      "metadata": {
        "id": "nY7EfoPiNNuo"
      },
      "source": [
        "# function to plot the recipe size\n",
        "def plot_recipeSize(recipes):\n",
        "  size = {}\n",
        "  for index, row in recipes.iterrows():\n",
        "    ingredients = row['ingredients']\n",
        "    length = len(ingredients)\n",
        "    if length in size:\n",
        "      size[length] = size[length]+1\n",
        "    else:\n",
        "      size[length] = 1\n",
        "  \n",
        "  sorted_list = sorted(size.keys())\n",
        "  y_list = []\n",
        "  total = 0\n",
        "  for r in sorted_list:\n",
        "    y_list.append(size[r])\n",
        "    total = total+size[r]\n",
        "  for i in range(len(y_list)):\n",
        "    y_list[i] = y_list[i]/total\n",
        "  x_axis = sorted_list\n",
        "  y_axis = y_list\n",
        "  plt.plot(x_axis, y_axis)\n",
        "  plt.xlabel(\"Recipe size\")\n",
        "  plt.ylabel(\"Percentage\")\n",
        "  plt.title(\"Recipe Size Distribution for each cuisine\")\n",
        "  plt.show()\n",
        "\n",
        "# function to plot the frequency rank distribution\n",
        "def plot_frequencyRank(recipes):\n",
        "  d = {}\n",
        "  for index,row in recipes.iterrows():\n",
        "    ingredients = row['ingredients']\n",
        "    for i in ingredients:\n",
        "      if i in d:\n",
        "        d[i] = d[i]+1\n",
        "      else:\n",
        "        d[i] = 1\n",
        "  sorted_matrix = sorted(d.items(),key=operator.itemgetter(1),reverse=True)\n",
        "  sorted_dict = {}\n",
        "\n",
        "  for i in range(len(sorted_matrix)):\n",
        "    sorted_dict[i] = sorted_matrix[i][1]\n",
        "\n",
        "  x_axis = list(sorted_dict.keys())\n",
        "  y_axis = list(sorted_dict.values())\n",
        "\n",
        "  plt.loglog(x_axis,y_axis, label = \"frequency rank distribution\")\n",
        "  plt.legend()\n",
        "  plt.xlabel(\"Rank\")\n",
        "  plt.ylabel(\"Frequency\")\n",
        "  plt.show()"
      ],
      "execution_count": 164,
      "outputs": []
    },
    {
      "cell_type": "markdown",
      "metadata": {
        "id": "L8WRqgSENYik"
      },
      "source": [
        "# (a)"
      ]
    },
    {
      "cell_type": "code",
      "metadata": {
        "colab": {
          "base_uri": "https://localhost:8080/",
          "height": 564
        },
        "id": "dDaN9sy0NaQV",
        "outputId": "9d9e1a44-0dae-4303-b627-65a2e8f49400"
      },
      "source": [
        "# function to create the random cuisine using strategy 1\n",
        "def create_RandomCuisine():\n",
        "  new_df = {'id':[],'cuisine':[],'ingredients':[]}\n",
        "  for index,row in df.iterrows():\n",
        "    recipe = row['ingredients']\n",
        "    recipe_size = len(recipe)\n",
        "    new_recipe = []\n",
        "    indices = []\n",
        "\n",
        "    # for all the ingredient in the recipe choosing one random ingredient from the ingredient basket\n",
        "    for i in range(recipe_size):\n",
        "      index = random.randint(0,len(ingredient_basket)-1)\n",
        "      indices.append(index)\n",
        "      new_recipe.append(ingredient_basket[index])\n",
        "      # ensuring without replacement\n",
        "      ingredient_basket.remove(ingredient_basket[index])\n",
        "\n",
        "    # appending the new recipe to the cuisine\n",
        "    new_df['id'].append(row['id'])\n",
        "    new_df['cuisine'].append(row['cuisine'])\n",
        "    new_df['ingredients'].append(new_recipe)\n",
        "\n",
        "    # restoring the ingredient basket\n",
        "    for i in range(recipe_size):\n",
        "      ingredient_basket.insert(indices[i],new_recipe[i])\n",
        "  new_df = pd.DataFrame(new_df)\n",
        "  plot_frequencyRank(new_df)\n",
        "  plot_recipeSize(new_df)\n",
        "  return new_df\n",
        "\n",
        "new_df  = create_RandomCuisine()"
      ],
      "execution_count": 165,
      "outputs": [
        {
          "output_type": "display_data",
          "data": {
            "image/png": "[encoded data removed]",
            "text/plain": [
              "<Figure size 432x288 with 1 Axes>"
            ]
          },
          "metadata": {
            "needs_background": "light"
          }
        },
        {
          "output_type": "display_data",
          "data": {
            "image/png": "[encoded data removed]",
            "text/plain": [
              "<Figure size 432x288 with 1 Axes>"
            ]
          },
          "metadata": {
            "needs_background": "light"
          }
        }
      ]
    },
    {
      "cell_type": "code",
      "metadata": {
        "colab": {
          "base_uri": "https://localhost:8080/",
          "height": 423
        },
        "id": "x5Afta-fNjg-",
        "outputId": "5ff6aac4-b7ff-4e33-e788-ea462c2efc7c"
      },
      "source": [
        "new_df"
      ],
      "execution_count": 166,
      "outputs": [
        {
          "output_type": "execute_result",
          "data": {
            "text/html": [
              "<div>\n",
              "<style scoped>\n",
              "    .dataframe tbody tr th:only-of-type {\n",
              "        vertical-align: middle;\n",
              "    }\n",
              "\n",
              "    .dataframe tbody tr th {\n",
              "        vertical-align: top;\n",
              "    }\n",
              "\n",
              "    .dataframe thead th {\n",
              "        text-align: right;\n",
              "    }\n",
              "</style>\n",
              "<table border=\"1\" class=\"dataframe\">\n",
              "  <thead>\n",
              "    <tr style=\"text-align: right;\">\n",
              "      <th></th>\n",
              "      <th>id</th>\n",
              "      <th>cuisine</th>\n",
              "      <th>ingredients</th>\n",
              "    </tr>\n",
              "  </thead>\n",
              "  <tbody>\n",
              "    <tr>\n",
              "      <th>0</th>\n",
              "      <td>3885</td>\n",
              "      <td>italian</td>\n",
              "      <td>[chicken thigh fillets, halibut steak, meal, k...</td>\n",
              "    </tr>\n",
              "    <tr>\n",
              "      <th>1</th>\n",
              "      <td>13430</td>\n",
              "      <td>brazilian</td>\n",
              "      <td>[country style italian bread, amberjack fillet...</td>\n",
              "    </tr>\n",
              "    <tr>\n",
              "      <th>2</th>\n",
              "      <td>13049</td>\n",
              "      <td>mexican</td>\n",
              "      <td>[beef rump steaks, veal loin chops, lamb seaso...</td>\n",
              "    </tr>\n",
              "    <tr>\n",
              "      <th>3</th>\n",
              "      <td>49282</td>\n",
              "      <td>mexican</td>\n",
              "      <td>[reduced-sodium tamari sauce, fried rice, dri ...</td>\n",
              "    </tr>\n",
              "    <tr>\n",
              "      <th>4</th>\n",
              "      <td>2253</td>\n",
              "      <td>indian</td>\n",
              "      <td>[prosciutto, dried thyme, miso, frozen peas an...</td>\n",
              "    </tr>\n",
              "    <tr>\n",
              "      <th>...</th>\n",
              "      <td>...</td>\n",
              "      <td>...</td>\n",
              "      <td>...</td>\n",
              "    </tr>\n",
              "    <tr>\n",
              "      <th>39769</th>\n",
              "      <td>12805</td>\n",
              "      <td>japanese</td>\n",
              "      <td>[polenta]</td>\n",
              "    </tr>\n",
              "    <tr>\n",
              "      <th>39770</th>\n",
              "      <td>39221</td>\n",
              "      <td>italian</td>\n",
              "      <td>[peeled canned low sodium tomatoes]</td>\n",
              "    </tr>\n",
              "    <tr>\n",
              "      <th>39771</th>\n",
              "      <td>10816</td>\n",
              "      <td>greek</td>\n",
              "      <td>[turkey]</td>\n",
              "    </tr>\n",
              "    <tr>\n",
              "      <th>39772</th>\n",
              "      <td>39186</td>\n",
              "      <td>thai</td>\n",
              "      <td>[mustard]</td>\n",
              "    </tr>\n",
              "    <tr>\n",
              "      <th>39773</th>\n",
              "      <td>7833</td>\n",
              "      <td>vietnamese</td>\n",
              "      <td>[sliced kalamata olives]</td>\n",
              "    </tr>\n",
              "  </tbody>\n",
              "</table>\n",
              "<p>39774 rows × 3 columns</p>\n",
              "</div>"
            ],
            "text/plain": [
              "          id     cuisine                                        ingredients\n",
              "0       3885     italian  [chicken thigh fillets, halibut steak, meal, k...\n",
              "1      13430   brazilian  [country style italian bread, amberjack fillet...\n",
              "2      13049     mexican  [beef rump steaks, veal loin chops, lamb seaso...\n",
              "3      49282     mexican  [reduced-sodium tamari sauce, fried rice, dri ...\n",
              "4       2253      indian  [prosciutto, dried thyme, miso, frozen peas an...\n",
              "...      ...         ...                                                ...\n",
              "39769  12805    japanese                                          [polenta]\n",
              "39770  39221     italian                [peeled canned low sodium tomatoes]\n",
              "39771  10816       greek                                           [turkey]\n",
              "39772  39186        thai                                          [mustard]\n",
              "39773   7833  vietnamese                           [sliced kalamata olives]\n",
              "\n",
              "[39774 rows x 3 columns]"
            ]
          },
          "metadata": {},
          "execution_count": 166
        }
      ]
    },
    {
      "cell_type": "markdown",
      "metadata": {
        "id": "qXuZewPvNpWm"
      },
      "source": [
        "# (b)"
      ]
    },
    {
      "cell_type": "code",
      "metadata": {
        "colab": {
          "base_uri": "https://localhost:8080/",
          "height": 561
        },
        "id": "gOWXh5vpNmJy",
        "outputId": "e00f55ea-377d-4424-ffbf-ae6f44c8b0fe"
      },
      "source": [
        "new_df = {'id':[],'cuisine':[],'ingredients':[]}\n",
        "# i = 0\n",
        "for index,row in df.iterrows():\n",
        "  size = len(row['ingredients'])\n",
        "  new_recipe = []\n",
        "  hell = False\n",
        "\n",
        "  for i in range(size):\n",
        "    ingredient = random.choices(ingredient_basket, weights=weighted, k=1)[0]\n",
        "    index = ingredient_basket.index(ingredient)\n",
        "    frequency = weighted[index]-1\n",
        "    if frequency==0:\n",
        "      weighted.pop(index)\n",
        "      ingredient_basket.pop(index)\n",
        "    else:\n",
        "      weighted[index] = weighted[index]-1\n",
        "    new_recipe.append(ingredient)\n",
        "  \n",
        "  new_df['id'].append(row['id'])\n",
        "  new_df['cuisine'].append(row['cuisine'])\n",
        "  new_df['ingredients'].append(new_recipe)\n",
        "new_df = pd.DataFrame(new_df)\n",
        "plot_frequencyRank(new_df)\n",
        "plot_recipeSize(new_df)"
      ],
      "execution_count": 167,
      "outputs": [
        {
          "output_type": "display_data",
          "data": {
            "image/png": "[encoded data removed]",
            "text/plain": [
              "<Figure size 432x288 with 1 Axes>"
            ]
          },
          "metadata": {
            "needs_background": "light"
          }
        },
        {
          "output_type": "display_data",
          "data": {
            "image/png": "[encoded data removed]",
            "text/plain": [
              "<Figure size 432x288 with 1 Axes>"
            ]
          },
          "metadata": {
            "needs_background": "light"
          }
        }
      ]
    },
    {
      "cell_type": "code",
      "metadata": {
        "colab": {
          "base_uri": "https://localhost:8080/",
          "height": 423
        },
        "id": "ApVKRLc2Nw1x",
        "outputId": "d2985e03-b747-4042-ad8a-f5ebe5cd81f1"
      },
      "source": [
        "new_df"
      ],
      "execution_count": 168,
      "outputs": [
        {
          "output_type": "execute_result",
          "data": {
            "text/html": [
              "<div>\n",
              "<style scoped>\n",
              "    .dataframe tbody tr th:only-of-type {\n",
              "        vertical-align: middle;\n",
              "    }\n",
              "\n",
              "    .dataframe tbody tr th {\n",
              "        vertical-align: top;\n",
              "    }\n",
              "\n",
              "    .dataframe thead th {\n",
              "        text-align: right;\n",
              "    }\n",
              "</style>\n",
              "<table border=\"1\" class=\"dataframe\">\n",
              "  <thead>\n",
              "    <tr style=\"text-align: right;\">\n",
              "      <th></th>\n",
              "      <th>id</th>\n",
              "      <th>cuisine</th>\n",
              "      <th>ingredients</th>\n",
              "    </tr>\n",
              "  </thead>\n",
              "  <tbody>\n",
              "    <tr>\n",
              "      <th>0</th>\n",
              "      <td>3885</td>\n",
              "      <td>italian</td>\n",
              "      <td>[powdered sugar, vegetable broth, ground black...</td>\n",
              "    </tr>\n",
              "    <tr>\n",
              "      <th>1</th>\n",
              "      <td>13430</td>\n",
              "      <td>brazilian</td>\n",
              "      <td>[spanish onion, corn syrup, garlic cloves, tur...</td>\n",
              "    </tr>\n",
              "    <tr>\n",
              "      <th>2</th>\n",
              "      <td>13049</td>\n",
              "      <td>mexican</td>\n",
              "      <td>[peanut oil, white vinegar, fish, chile powder...</td>\n",
              "    </tr>\n",
              "    <tr>\n",
              "      <th>3</th>\n",
              "      <td>49282</td>\n",
              "      <td>mexican</td>\n",
              "      <td>[cayenne pepper, sliced green onions, clove, p...</td>\n",
              "    </tr>\n",
              "    <tr>\n",
              "      <th>4</th>\n",
              "      <td>2253</td>\n",
              "      <td>indian</td>\n",
              "      <td>[water, cayenne pepper, soy sauce, ground blac...</td>\n",
              "    </tr>\n",
              "    <tr>\n",
              "      <th>...</th>\n",
              "      <td>...</td>\n",
              "      <td>...</td>\n",
              "      <td>...</td>\n",
              "    </tr>\n",
              "    <tr>\n",
              "      <th>39769</th>\n",
              "      <td>12805</td>\n",
              "      <td>japanese</td>\n",
              "      <td>[varnish clams]</td>\n",
              "    </tr>\n",
              "    <tr>\n",
              "      <th>39770</th>\n",
              "      <td>39221</td>\n",
              "      <td>italian</td>\n",
              "      <td>[boneless skinless chicken breast halves]</td>\n",
              "    </tr>\n",
              "    <tr>\n",
              "      <th>39771</th>\n",
              "      <td>10816</td>\n",
              "      <td>greek</td>\n",
              "      <td>[frozen broccoli]</td>\n",
              "    </tr>\n",
              "    <tr>\n",
              "      <th>39772</th>\n",
              "      <td>39186</td>\n",
              "      <td>thai</td>\n",
              "      <td>[green beans]</td>\n",
              "    </tr>\n",
              "    <tr>\n",
              "      <th>39773</th>\n",
              "      <td>7833</td>\n",
              "      <td>vietnamese</td>\n",
              "      <td>[ground black pepper]</td>\n",
              "    </tr>\n",
              "  </tbody>\n",
              "</table>\n",
              "<p>39774 rows × 3 columns</p>\n",
              "</div>"
            ],
            "text/plain": [
              "          id     cuisine                                        ingredients\n",
              "0       3885     italian  [powdered sugar, vegetable broth, ground black...\n",
              "1      13430   brazilian  [spanish onion, corn syrup, garlic cloves, tur...\n",
              "2      13049     mexican  [peanut oil, white vinegar, fish, chile powder...\n",
              "3      49282     mexican  [cayenne pepper, sliced green onions, clove, p...\n",
              "4       2253      indian  [water, cayenne pepper, soy sauce, ground blac...\n",
              "...      ...         ...                                                ...\n",
              "39769  12805    japanese                                    [varnish clams]\n",
              "39770  39221     italian          [boneless skinless chicken breast halves]\n",
              "39771  10816       greek                                  [frozen broccoli]\n",
              "39772  39186        thai                                      [green beans]\n",
              "39773   7833  vietnamese                              [ground black pepper]\n",
              "\n",
              "[39774 rows x 3 columns]"
            ]
          },
          "metadata": {},
          "execution_count": 168
        }
      ]
    }
  ]
}
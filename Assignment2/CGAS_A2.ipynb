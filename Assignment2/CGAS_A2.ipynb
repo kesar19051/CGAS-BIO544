{
  "nbformat": 4,
  "nbformat_minor": 0,
  "metadata": {
    "colab": {
      "name": "CGAS_A2",
      "provenance": []
    },
    "kernelspec": {
      "name": "python3",
      "display_name": "Python 3"
    },
    "language_info": {
      "name": "python"
    }
  },
  "cells": [
    {
      "cell_type": "code",
      "metadata": {
        "id": "TqHLiFM240JE"
      },
      "source": [
        "# Importing required libraries\n",
        "import numpy as np\n",
        "import matplotlib.pyplot as plt\n",
        "import json\n",
        "import pandas as pd\n",
        "import random\n",
        "import copy"
      ],
      "execution_count": 100,
      "outputs": []
    },
    {
      "cell_type": "code",
      "metadata": {
        "id": "bAeqFozHfdOD"
      },
      "source": [
        "# reading the file\n",
        "df = pd.read_json(\"train.json\")\n",
        "df_ingredients = df['ingredients'].tolist()\n",
        "index = df.index\n",
        "number_of_rows = len(index)"
      ],
      "execution_count": 101,
      "outputs": []
    },
    {
      "cell_type": "code",
      "metadata": {
        "id": "JYpJgcw_fPMb"
      },
      "source": [
        "# creating the nature basket\n",
        "NB = []\n",
        "for ingredient_list in df_ingredients:\n",
        "  for ingredient in ingredient_list:\n",
        "    if ingredient in NB:\n",
        "      pass\n",
        "    else:\n",
        "      NB.append(ingredient)"
      ],
      "execution_count": 102,
      "outputs": []
    },
    {
      "cell_type": "code",
      "metadata": {
        "id": "b2vABF-rfXoo"
      },
      "source": [
        "# creating the kitchen basket\n",
        "KB = random.sample(NB, 50)\n",
        "\n",
        "# taking random recipes from the given dataset\n",
        "recipes = df.sample(n = 500)\n",
        "\n",
        "# all components of primordial cuisine are extracted"
      ],
      "execution_count": 103,
      "outputs": []
    },
    {
      "cell_type": "code",
      "metadata": {
        "id": "3Tk7q49mmuYL"
      },
      "source": [
        "# picking up a random recipe for modification\n",
        "\n",
        "def is_same(to_check):\n",
        "  for index, row in recipes.iterrows():\n",
        "    if row['ingredients']==to_check:\n",
        "      return True\n",
        "  return False\n",
        "\n",
        "def replace_ingredient():\n",
        "  modification_recipe = recipes.sample()\n",
        "  modification_recipe_id = int(modification_recipe['id'])\n",
        "  modification_recipe_ingredients = modification_recipe['ingredients'].tolist()[0]\n",
        "\n",
        "  ingredient_from_recipe = ['a']\n",
        "  ingredient_from_KB = ['a']\n",
        "\n",
        "  # picking up random ingredient from the chosen recipe and the KB to modify the recipe\n",
        "  while ingredient_from_recipe[0]==ingredient_from_KB[0]:\n",
        "    # print(\"hello\")\n",
        "    ingredient_from_recipe = random.sample(modification_recipe_ingredients,1)\n",
        "    ingredient_from_KB = random.sample(KB,1)\n",
        "  \n",
        "  ingredient_from_recipe = ingredient_from_recipe[0]\n",
        "  ingredient_from_KB = ingredient_from_KB[0]\n",
        "\n",
        "  index = modification_recipe_ingredients.index(ingredient_from_recipe)\n",
        "\n",
        "  # replacing the ingredient of the recipe with ingredient chosen from KB\n",
        "\n",
        "  to_check = copy.deepcopy(modification_recipe_ingredients) \n",
        "  to_check[index] = ingredient_from_KB\n",
        "  return_list = [to_check, modification_recipe_id, ingredient_from_KB]\n",
        "  return return_list"
      ],
      "execution_count": 104,
      "outputs": []
    },
    {
      "cell_type": "code",
      "metadata": {
        "id": "vfe1dEoj29lN"
      },
      "source": [
        "for i in range(50):\n",
        "  while 0<1:\n",
        "    l = replace_ingredient()\n",
        "    if is_same(l[0])==False:\n",
        "      row_number = recipes[recipes['id'] == l[1]].index[0]\n",
        "      cuisine = recipes.loc[row_number,'cuisine']\n",
        "      to_append = pd.DataFrame({'id':[number_of_rows+1], 'cuisine':[cuisine], 'ingredients':[l[0]]})\n",
        "      number_of_rows = number_of_rows+1\n",
        "      recipes = recipes.append(to_append)\n",
        "      KB.remove(l[2])\n",
        "      break\n",
        "  i = i+1"
      ],
      "execution_count": 109,
      "outputs": []
    }
  ]
}